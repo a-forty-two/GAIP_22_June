{
  "cells": [
    {
      "cell_type": "markdown",
      "metadata": {
        "id": "view-in-github",
        "colab_type": "text"
      },
      "source": [
        "<a href=\"https://colab.research.google.com/github/a-forty-two/GAIP_22_June/blob/main/02_TextAnalysisRegex.ipynb\" target=\"_parent\"><img src=\"https://colab.research.google.com/assets/colab-badge.svg\" alt=\"Open In Colab\"/></a>"
      ]
    },
    {
      "cell_type": "markdown",
      "metadata": {
        "id": "6C2Gab3O8c65"
      },
      "source": [
        "# Exploratory Text Analysis\n",
        "\n",
        "## What kinds of text analysis are there?\n",
        "\n",
        "* analyst knows the pattern\n",
        "    * regular expressions\n",
        "* analyst does not know the pattern\n",
        "    * natural language processing\n",
        "        * compares historical examples to judge novel cases\n",
        "            * comparisons are statistical and approximate\n",
        "            "
      ]
    },
    {
      "cell_type": "markdown",
      "metadata": {
        "id": "OgXOpm9G8c69"
      },
      "source": [
        "### Examples of Analysis"
      ]
    },
    {
      "cell_type": "markdown",
      "metadata": {
        "id": "kXig5o7_8c6-"
      },
      "source": [
        "When you know the pattern:"
      ]
    },
    {
      "cell_type": "code",
      "execution_count": null,
      "metadata": {
        "id": "E8b_CeNN8c6_"
      },
      "outputs": [],
      "source": [
        "pattern = '£ ?[0-9][0-9]?' # £ then SPACE-optional then digit then digit-optional \n",
        "\n",
        "document = 'My eggs cost £ 3, bread cost £2, vodka cost £ 35'"
      ]
    },
    {
      "cell_type": "code",
      "execution_count": null,
      "metadata": {
        "id": "ZXLl1BkJ8c7A"
      },
      "outputs": [],
      "source": [
        "import re"
      ]
    },
    {
      "cell_type": "code",
      "execution_count": null,
      "metadata": {
        "colab": {
          "base_uri": "https://localhost:8080/"
        },
        "id": "_hAyXQAT8c7B",
        "outputId": "ee20b9f9-54ea-4660-ba5a-bea54d5e0bd2"
      },
      "outputs": [
        {
          "output_type": "execute_result",
          "data": {
            "text/plain": [
              "['£ 3', '£2', '£ 35']"
            ]
          },
          "metadata": {},
          "execution_count": 9
        }
      ],
      "source": [
        "re.findall(pattern, document)"
      ]
    },
    {
      "cell_type": "markdown",
      "metadata": {
        "id": "MKEjJhrN8c7C"
      },
      "source": [
        "If you dont:\n",
        "\n",
        "* sentiment analysis\n",
        "    * how positive/negative is this (new) review?\n",
        "* topic analysis \n",
        "    * what is this document about?"
      ]
    },
    {
      "cell_type": "markdown",
      "metadata": {
        "id": "xRzWQzjo8c7D"
      },
      "source": [
        "## What can I do if I know what pattern I want to find?\n",
        "\n",
        "* finding (\"extracting\")\n",
        "    * what matches the pattern?\n",
        "* matching (\"validating\")\n",
        "    * does the entire document match YES/NO?\n",
        "* substitue (\"replacing\")\n",
        "    * replace a part that matches a pattern with another..."
      ]
    },
    {
      "cell_type": "markdown",
      "metadata": {
        "id": "8pR38u5W8c7E"
      },
      "source": [
        "## How do I validate text with pandas?"
      ]
    },
    {
      "cell_type": "code",
      "execution_count": null,
      "metadata": {
        "id": "hWuNn_k_8c7E"
      },
      "outputs": [],
      "source": [
        "import pandas as pd"
      ]
    },
    {
      "cell_type": "code",
      "execution_count": null,
      "metadata": {
        "colab": {
          "base_uri": "https://localhost:8080/",
          "height": 81
        },
        "id": "xU4qp19o8c7F",
        "outputId": "f7696ae1-8e36-44c5-dd5e-a9922aa0a9a1"
      },
      "outputs": [
        {
          "output_type": "execute_result",
          "data": {
            "text/html": [
              "\n",
              "  <div id=\"df-3870940b-f868-4be6-bb4b-8927eae6f8d8\">\n",
              "    <div class=\"colab-df-container\">\n",
              "      <div>\n",
              "<style scoped>\n",
              "    .dataframe tbody tr th:only-of-type {\n",
              "        vertical-align: middle;\n",
              "    }\n",
              "\n",
              "    .dataframe tbody tr th {\n",
              "        vertical-align: top;\n",
              "    }\n",
              "\n",
              "    .dataframe thead th {\n",
              "        text-align: right;\n",
              "    }\n",
              "</style>\n",
              "<table border=\"1\" class=\"dataframe\">\n",
              "  <thead>\n",
              "    <tr style=\"text-align: right;\">\n",
              "      <th></th>\n",
              "      <th>survived</th>\n",
              "      <th>pclass</th>\n",
              "      <th>sex</th>\n",
              "      <th>age</th>\n",
              "      <th>sibsp</th>\n",
              "      <th>parch</th>\n",
              "      <th>fare</th>\n",
              "      <th>embarked</th>\n",
              "      <th>class</th>\n",
              "      <th>who</th>\n",
              "      <th>adult_male</th>\n",
              "      <th>deck</th>\n",
              "      <th>embark_town</th>\n",
              "      <th>alive</th>\n",
              "      <th>alone</th>\n",
              "    </tr>\n",
              "  </thead>\n",
              "  <tbody>\n",
              "    <tr>\n",
              "      <th>104</th>\n",
              "      <td>0</td>\n",
              "      <td>3</td>\n",
              "      <td>male</td>\n",
              "      <td>37.0</td>\n",
              "      <td>2</td>\n",
              "      <td>0</td>\n",
              "      <td>7.925</td>\n",
              "      <td>S</td>\n",
              "      <td>Third</td>\n",
              "      <td>man</td>\n",
              "      <td>True</td>\n",
              "      <td>NaN</td>\n",
              "      <td>Southampton</td>\n",
              "      <td>no</td>\n",
              "      <td>False</td>\n",
              "    </tr>\n",
              "  </tbody>\n",
              "</table>\n",
              "</div>\n",
              "      <button class=\"colab-df-convert\" onclick=\"convertToInteractive('df-3870940b-f868-4be6-bb4b-8927eae6f8d8')\"\n",
              "              title=\"Convert this dataframe to an interactive table.\"\n",
              "              style=\"display:none;\">\n",
              "        \n",
              "  <svg xmlns=\"http://www.w3.org/2000/svg\" height=\"24px\"viewBox=\"0 0 24 24\"\n",
              "       width=\"24px\">\n",
              "    <path d=\"M0 0h24v24H0V0z\" fill=\"none\"/>\n",
              "    <path d=\"M18.56 5.44l.94 2.06.94-2.06 2.06-.94-2.06-.94-.94-2.06-.94 2.06-2.06.94zm-11 1L8.5 8.5l.94-2.06 2.06-.94-2.06-.94L8.5 2.5l-.94 2.06-2.06.94zm10 10l.94 2.06.94-2.06 2.06-.94-2.06-.94-.94-2.06-.94 2.06-2.06.94z\"/><path d=\"M17.41 7.96l-1.37-1.37c-.4-.4-.92-.59-1.43-.59-.52 0-1.04.2-1.43.59L10.3 9.45l-7.72 7.72c-.78.78-.78 2.05 0 2.83L4 21.41c.39.39.9.59 1.41.59.51 0 1.02-.2 1.41-.59l7.78-7.78 2.81-2.81c.8-.78.8-2.07 0-2.86zM5.41 20L4 18.59l7.72-7.72 1.47 1.35L5.41 20z\"/>\n",
              "  </svg>\n",
              "      </button>\n",
              "      \n",
              "  <style>\n",
              "    .colab-df-container {\n",
              "      display:flex;\n",
              "      flex-wrap:wrap;\n",
              "      gap: 12px;\n",
              "    }\n",
              "\n",
              "    .colab-df-convert {\n",
              "      background-color: #E8F0FE;\n",
              "      border: none;\n",
              "      border-radius: 50%;\n",
              "      cursor: pointer;\n",
              "      display: none;\n",
              "      fill: #1967D2;\n",
              "      height: 32px;\n",
              "      padding: 0 0 0 0;\n",
              "      width: 32px;\n",
              "    }\n",
              "\n",
              "    .colab-df-convert:hover {\n",
              "      background-color: #E2EBFA;\n",
              "      box-shadow: 0px 1px 2px rgba(60, 64, 67, 0.3), 0px 1px 3px 1px rgba(60, 64, 67, 0.15);\n",
              "      fill: #174EA6;\n",
              "    }\n",
              "\n",
              "    [theme=dark] .colab-df-convert {\n",
              "      background-color: #3B4455;\n",
              "      fill: #D2E3FC;\n",
              "    }\n",
              "\n",
              "    [theme=dark] .colab-df-convert:hover {\n",
              "      background-color: #434B5C;\n",
              "      box-shadow: 0px 1px 3px 1px rgba(0, 0, 0, 0.15);\n",
              "      filter: drop-shadow(0px 1px 2px rgba(0, 0, 0, 0.3));\n",
              "      fill: #FFFFFF;\n",
              "    }\n",
              "  </style>\n",
              "\n",
              "      <script>\n",
              "        const buttonEl =\n",
              "          document.querySelector('#df-3870940b-f868-4be6-bb4b-8927eae6f8d8 button.colab-df-convert');\n",
              "        buttonEl.style.display =\n",
              "          google.colab.kernel.accessAllowed ? 'block' : 'none';\n",
              "\n",
              "        async function convertToInteractive(key) {\n",
              "          const element = document.querySelector('#df-3870940b-f868-4be6-bb4b-8927eae6f8d8');\n",
              "          const dataTable =\n",
              "            await google.colab.kernel.invokeFunction('convertToInteractive',\n",
              "                                                     [key], {});\n",
              "          if (!dataTable) return;\n",
              "\n",
              "          const docLinkHtml = 'Like what you see? Visit the ' +\n",
              "            '<a target=\"_blank\" href=https://colab.research.google.com/notebooks/data_table.ipynb>data table notebook</a>'\n",
              "            + ' to learn more about interactive tables.';\n",
              "          element.innerHTML = '';\n",
              "          dataTable['output_type'] = 'display_data';\n",
              "          await google.colab.output.renderOutput(dataTable, element);\n",
              "          const docLink = document.createElement('div');\n",
              "          docLink.innerHTML = docLinkHtml;\n",
              "          element.appendChild(docLink);\n",
              "        }\n",
              "      </script>\n",
              "    </div>\n",
              "  </div>\n",
              "  "
            ],
            "text/plain": [
              "     survived  pclass   sex   age  ...  deck  embark_town  alive  alone\n",
              "104         0       3  male  37.0  ...   NaN  Southampton     no  False\n",
              "\n",
              "[1 rows x 15 columns]"
            ]
          },
          "metadata": {},
          "execution_count": 15
        }
      ],
      "source": [
        "ti = pd.read_csv('https://raw.githubusercontent.com/a-forty-two/diamler_17_jan/main/titanic.csv')\n",
        "ti.sample(1)"
      ]
    },
    {
      "cell_type": "code",
      "execution_count": null,
      "metadata": {
        "id": "PzydHAEP8c7G"
      },
      "outputs": [],
      "source": [
        "ti['ticket'] = \"Ticket: \" + ti['class'] + \"; Price: $ \" + ti['fare'].astype(str) + \"; Port: \" + ti['embark_town'] + \";\""
      ]
    },
    {
      "cell_type": "code",
      "execution_count": null,
      "metadata": {
        "colab": {
          "base_uri": "https://localhost:8080/",
          "height": 143
        },
        "id": "2nYVZZoc8c7H",
        "outputId": "981cae92-b05a-4f4e-c512-3946d1c04ed2"
      },
      "outputs": [
        {
          "output_type": "execute_result",
          "data": {
            "text/html": [
              "\n",
              "  <div id=\"df-beb22c85-4257-4f52-91c6-ed856274db52\">\n",
              "    <div class=\"colab-df-container\">\n",
              "      <div>\n",
              "<style scoped>\n",
              "    .dataframe tbody tr th:only-of-type {\n",
              "        vertical-align: middle;\n",
              "    }\n",
              "\n",
              "    .dataframe tbody tr th {\n",
              "        vertical-align: top;\n",
              "    }\n",
              "\n",
              "    .dataframe thead th {\n",
              "        text-align: right;\n",
              "    }\n",
              "</style>\n",
              "<table border=\"1\" class=\"dataframe\">\n",
              "  <thead>\n",
              "    <tr style=\"text-align: right;\">\n",
              "      <th></th>\n",
              "      <th>class</th>\n",
              "      <th>fare</th>\n",
              "      <th>embark_town</th>\n",
              "      <th>ticket</th>\n",
              "    </tr>\n",
              "  </thead>\n",
              "  <tbody>\n",
              "    <tr>\n",
              "      <th>0</th>\n",
              "      <td>Third</td>\n",
              "      <td>7.2500</td>\n",
              "      <td>Southampton</td>\n",
              "      <td>Ticket: Third; Price: $ 7.25; Port: Southampton;</td>\n",
              "    </tr>\n",
              "    <tr>\n",
              "      <th>1</th>\n",
              "      <td>First</td>\n",
              "      <td>71.2833</td>\n",
              "      <td>Cherbourg</td>\n",
              "      <td>Ticket: First; Price: $ 71.2833; Port: Cherbourg;</td>\n",
              "    </tr>\n",
              "    <tr>\n",
              "      <th>2</th>\n",
              "      <td>Third</td>\n",
              "      <td>7.9250</td>\n",
              "      <td>Southampton</td>\n",
              "      <td>Ticket: Third; Price: $ 7.925; Port: Southampton;</td>\n",
              "    </tr>\n",
              "  </tbody>\n",
              "</table>\n",
              "</div>\n",
              "      <button class=\"colab-df-convert\" onclick=\"convertToInteractive('df-beb22c85-4257-4f52-91c6-ed856274db52')\"\n",
              "              title=\"Convert this dataframe to an interactive table.\"\n",
              "              style=\"display:none;\">\n",
              "        \n",
              "  <svg xmlns=\"http://www.w3.org/2000/svg\" height=\"24px\"viewBox=\"0 0 24 24\"\n",
              "       width=\"24px\">\n",
              "    <path d=\"M0 0h24v24H0V0z\" fill=\"none\"/>\n",
              "    <path d=\"M18.56 5.44l.94 2.06.94-2.06 2.06-.94-2.06-.94-.94-2.06-.94 2.06-2.06.94zm-11 1L8.5 8.5l.94-2.06 2.06-.94-2.06-.94L8.5 2.5l-.94 2.06-2.06.94zm10 10l.94 2.06.94-2.06 2.06-.94-2.06-.94-.94-2.06-.94 2.06-2.06.94z\"/><path d=\"M17.41 7.96l-1.37-1.37c-.4-.4-.92-.59-1.43-.59-.52 0-1.04.2-1.43.59L10.3 9.45l-7.72 7.72c-.78.78-.78 2.05 0 2.83L4 21.41c.39.39.9.59 1.41.59.51 0 1.02-.2 1.41-.59l7.78-7.78 2.81-2.81c.8-.78.8-2.07 0-2.86zM5.41 20L4 18.59l7.72-7.72 1.47 1.35L5.41 20z\"/>\n",
              "  </svg>\n",
              "      </button>\n",
              "      \n",
              "  <style>\n",
              "    .colab-df-container {\n",
              "      display:flex;\n",
              "      flex-wrap:wrap;\n",
              "      gap: 12px;\n",
              "    }\n",
              "\n",
              "    .colab-df-convert {\n",
              "      background-color: #E8F0FE;\n",
              "      border: none;\n",
              "      border-radius: 50%;\n",
              "      cursor: pointer;\n",
              "      display: none;\n",
              "      fill: #1967D2;\n",
              "      height: 32px;\n",
              "      padding: 0 0 0 0;\n",
              "      width: 32px;\n",
              "    }\n",
              "\n",
              "    .colab-df-convert:hover {\n",
              "      background-color: #E2EBFA;\n",
              "      box-shadow: 0px 1px 2px rgba(60, 64, 67, 0.3), 0px 1px 3px 1px rgba(60, 64, 67, 0.15);\n",
              "      fill: #174EA6;\n",
              "    }\n",
              "\n",
              "    [theme=dark] .colab-df-convert {\n",
              "      background-color: #3B4455;\n",
              "      fill: #D2E3FC;\n",
              "    }\n",
              "\n",
              "    [theme=dark] .colab-df-convert:hover {\n",
              "      background-color: #434B5C;\n",
              "      box-shadow: 0px 1px 3px 1px rgba(0, 0, 0, 0.15);\n",
              "      filter: drop-shadow(0px 1px 2px rgba(0, 0, 0, 0.3));\n",
              "      fill: #FFFFFF;\n",
              "    }\n",
              "  </style>\n",
              "\n",
              "      <script>\n",
              "        const buttonEl =\n",
              "          document.querySelector('#df-beb22c85-4257-4f52-91c6-ed856274db52 button.colab-df-convert');\n",
              "        buttonEl.style.display =\n",
              "          google.colab.kernel.accessAllowed ? 'block' : 'none';\n",
              "\n",
              "        async function convertToInteractive(key) {\n",
              "          const element = document.querySelector('#df-beb22c85-4257-4f52-91c6-ed856274db52');\n",
              "          const dataTable =\n",
              "            await google.colab.kernel.invokeFunction('convertToInteractive',\n",
              "                                                     [key], {});\n",
              "          if (!dataTable) return;\n",
              "\n",
              "          const docLinkHtml = 'Like what you see? Visit the ' +\n",
              "            '<a target=\"_blank\" href=https://colab.research.google.com/notebooks/data_table.ipynb>data table notebook</a>'\n",
              "            + ' to learn more about interactive tables.';\n",
              "          element.innerHTML = '';\n",
              "          dataTable['output_type'] = 'display_data';\n",
              "          await google.colab.output.renderOutput(dataTable, element);\n",
              "          const docLink = document.createElement('div');\n",
              "          docLink.innerHTML = docLinkHtml;\n",
              "          element.appendChild(docLink);\n",
              "        }\n",
              "      </script>\n",
              "    </div>\n",
              "  </div>\n",
              "  "
            ],
            "text/plain": [
              "   class  ...                                             ticket\n",
              "0  Third  ...   Ticket: Third; Price: $ 7.25; Port: Southampton;\n",
              "1  First  ...  Ticket: First; Price: $ 71.2833; Port: Cherbourg;\n",
              "2  Third  ...  Ticket: Third; Price: $ 7.925; Port: Southampton;\n",
              "\n",
              "[3 rows x 4 columns]"
            ]
          },
          "metadata": {},
          "execution_count": 17
        }
      ],
      "source": [
        "ti[['class', 'fare', 'embark_town', 'ticket']].head(3)"
      ]
    },
    {
      "cell_type": "code",
      "execution_count": null,
      "metadata": {
        "colab": {
          "base_uri": "https://localhost:8080/"
        },
        "id": "9lLHDARd8c7I",
        "outputId": "8c0aecb2-5f2f-4995-c5ca-04bc627fefb3"
      },
      "outputs": [
        {
          "output_type": "execute_result",
          "data": {
            "text/plain": [
              "0      False\n",
              "1       True\n",
              "2      False\n",
              "3       True\n",
              "4      False\n",
              "       ...  \n",
              "886     True\n",
              "887     True\n",
              "888    False\n",
              "889     True\n",
              "890    False\n",
              "Name: class, Length: 891, dtype: bool"
            ]
          },
          "metadata": {},
          "execution_count": 18
        }
      ],
      "source": [
        "pattern = '(First|Second)'\n",
        "\n",
        "ti['class'].str.match(pattern)"
      ]
    },
    {
      "cell_type": "code",
      "execution_count": null,
      "metadata": {
        "colab": {
          "base_uri": "https://localhost:8080/"
        },
        "id": "4PfDIjO08c7I",
        "outputId": "db70fe91-8d8a-4523-94a9-93a3a5563da1"
      },
      "outputs": [
        {
          "output_type": "execute_result",
          "data": {
            "text/plain": [
              "0.5575"
            ]
          },
          "metadata": {},
          "execution_count": 19
        }
      ],
      "source": [
        "ti.loc[ ti['class'].str.match(pattern)  , 'survived'].mean()"
      ]
    },
    {
      "cell_type": "markdown",
      "metadata": {
        "id": "7PcvssJ-8c7K"
      },
      "source": [
        "## How do I extract data with pandas?"
      ]
    },
    {
      "cell_type": "code",
      "execution_count": null,
      "metadata": {
        "colab": {
          "base_uri": "https://localhost:8080/",
          "height": 143
        },
        "id": "UzCvCzfo8c7L",
        "outputId": "8bd698a9-6613-4e7e-9960-8a4df54d9238"
      },
      "outputs": [
        {
          "output_type": "execute_result",
          "data": {
            "text/html": [
              "\n",
              "  <div id=\"df-71badcd2-40a7-4958-bba3-4688c275206a\">\n",
              "    <div class=\"colab-df-container\">\n",
              "      <div>\n",
              "<style scoped>\n",
              "    .dataframe tbody tr th:only-of-type {\n",
              "        vertical-align: middle;\n",
              "    }\n",
              "\n",
              "    .dataframe tbody tr th {\n",
              "        vertical-align: top;\n",
              "    }\n",
              "\n",
              "    .dataframe thead th {\n",
              "        text-align: right;\n",
              "    }\n",
              "</style>\n",
              "<table border=\"1\" class=\"dataframe\">\n",
              "  <thead>\n",
              "    <tr style=\"text-align: right;\">\n",
              "      <th></th>\n",
              "      <th>class</th>\n",
              "      <th>fare</th>\n",
              "      <th>embark_town</th>\n",
              "      <th>ticket</th>\n",
              "    </tr>\n",
              "  </thead>\n",
              "  <tbody>\n",
              "    <tr>\n",
              "      <th>0</th>\n",
              "      <td>Third</td>\n",
              "      <td>7.2500</td>\n",
              "      <td>Southampton</td>\n",
              "      <td>Ticket: Third; Price: $ 7.25; Port: Southampton;</td>\n",
              "    </tr>\n",
              "    <tr>\n",
              "      <th>1</th>\n",
              "      <td>First</td>\n",
              "      <td>71.2833</td>\n",
              "      <td>Cherbourg</td>\n",
              "      <td>Ticket: First; Price: $ 71.2833; Port: Cherbourg;</td>\n",
              "    </tr>\n",
              "    <tr>\n",
              "      <th>2</th>\n",
              "      <td>Third</td>\n",
              "      <td>7.9250</td>\n",
              "      <td>Southampton</td>\n",
              "      <td>Ticket: Third; Price: $ 7.925; Port: Southampton;</td>\n",
              "    </tr>\n",
              "  </tbody>\n",
              "</table>\n",
              "</div>\n",
              "      <button class=\"colab-df-convert\" onclick=\"convertToInteractive('df-71badcd2-40a7-4958-bba3-4688c275206a')\"\n",
              "              title=\"Convert this dataframe to an interactive table.\"\n",
              "              style=\"display:none;\">\n",
              "        \n",
              "  <svg xmlns=\"http://www.w3.org/2000/svg\" height=\"24px\"viewBox=\"0 0 24 24\"\n",
              "       width=\"24px\">\n",
              "    <path d=\"M0 0h24v24H0V0z\" fill=\"none\"/>\n",
              "    <path d=\"M18.56 5.44l.94 2.06.94-2.06 2.06-.94-2.06-.94-.94-2.06-.94 2.06-2.06.94zm-11 1L8.5 8.5l.94-2.06 2.06-.94-2.06-.94L8.5 2.5l-.94 2.06-2.06.94zm10 10l.94 2.06.94-2.06 2.06-.94-2.06-.94-.94-2.06-.94 2.06-2.06.94z\"/><path d=\"M17.41 7.96l-1.37-1.37c-.4-.4-.92-.59-1.43-.59-.52 0-1.04.2-1.43.59L10.3 9.45l-7.72 7.72c-.78.78-.78 2.05 0 2.83L4 21.41c.39.39.9.59 1.41.59.51 0 1.02-.2 1.41-.59l7.78-7.78 2.81-2.81c.8-.78.8-2.07 0-2.86zM5.41 20L4 18.59l7.72-7.72 1.47 1.35L5.41 20z\"/>\n",
              "  </svg>\n",
              "      </button>\n",
              "      \n",
              "  <style>\n",
              "    .colab-df-container {\n",
              "      display:flex;\n",
              "      flex-wrap:wrap;\n",
              "      gap: 12px;\n",
              "    }\n",
              "\n",
              "    .colab-df-convert {\n",
              "      background-color: #E8F0FE;\n",
              "      border: none;\n",
              "      border-radius: 50%;\n",
              "      cursor: pointer;\n",
              "      display: none;\n",
              "      fill: #1967D2;\n",
              "      height: 32px;\n",
              "      padding: 0 0 0 0;\n",
              "      width: 32px;\n",
              "    }\n",
              "\n",
              "    .colab-df-convert:hover {\n",
              "      background-color: #E2EBFA;\n",
              "      box-shadow: 0px 1px 2px rgba(60, 64, 67, 0.3), 0px 1px 3px 1px rgba(60, 64, 67, 0.15);\n",
              "      fill: #174EA6;\n",
              "    }\n",
              "\n",
              "    [theme=dark] .colab-df-convert {\n",
              "      background-color: #3B4455;\n",
              "      fill: #D2E3FC;\n",
              "    }\n",
              "\n",
              "    [theme=dark] .colab-df-convert:hover {\n",
              "      background-color: #434B5C;\n",
              "      box-shadow: 0px 1px 3px 1px rgba(0, 0, 0, 0.15);\n",
              "      filter: drop-shadow(0px 1px 2px rgba(0, 0, 0, 0.3));\n",
              "      fill: #FFFFFF;\n",
              "    }\n",
              "  </style>\n",
              "\n",
              "      <script>\n",
              "        const buttonEl =\n",
              "          document.querySelector('#df-71badcd2-40a7-4958-bba3-4688c275206a button.colab-df-convert');\n",
              "        buttonEl.style.display =\n",
              "          google.colab.kernel.accessAllowed ? 'block' : 'none';\n",
              "\n",
              "        async function convertToInteractive(key) {\n",
              "          const element = document.querySelector('#df-71badcd2-40a7-4958-bba3-4688c275206a');\n",
              "          const dataTable =\n",
              "            await google.colab.kernel.invokeFunction('convertToInteractive',\n",
              "                                                     [key], {});\n",
              "          if (!dataTable) return;\n",
              "\n",
              "          const docLinkHtml = 'Like what you see? Visit the ' +\n",
              "            '<a target=\"_blank\" href=https://colab.research.google.com/notebooks/data_table.ipynb>data table notebook</a>'\n",
              "            + ' to learn more about interactive tables.';\n",
              "          element.innerHTML = '';\n",
              "          dataTable['output_type'] = 'display_data';\n",
              "          await google.colab.output.renderOutput(dataTable, element);\n",
              "          const docLink = document.createElement('div');\n",
              "          docLink.innerHTML = docLinkHtml;\n",
              "          element.appendChild(docLink);\n",
              "        }\n",
              "      </script>\n",
              "    </div>\n",
              "  </div>\n",
              "  "
            ],
            "text/plain": [
              "   class  ...                                             ticket\n",
              "0  Third  ...   Ticket: Third; Price: $ 7.25; Port: Southampton;\n",
              "1  First  ...  Ticket: First; Price: $ 71.2833; Port: Cherbourg;\n",
              "2  Third  ...  Ticket: Third; Price: $ 7.925; Port: Southampton;\n",
              "\n",
              "[3 rows x 4 columns]"
            ]
          },
          "metadata": {},
          "execution_count": 20
        }
      ],
      "source": [
        "ti[['class', 'fare', 'embark_town', 'ticket']].head(3)"
      ]
    },
    {
      "cell_type": "code",
      "execution_count": null,
      "metadata": {
        "colab": {
          "base_uri": "https://localhost:8080/",
          "height": 175
        },
        "id": "6B5El8ft8c7L",
        "outputId": "49e456af-3242-4d97-aa97-7a948253b3bf"
      },
      "outputs": [
        {
          "output_type": "execute_result",
          "data": {
            "text/html": [
              "\n",
              "  <div id=\"df-a4ad0bd7-be5d-4f61-9e42-5eec041fa6eb\">\n",
              "    <div class=\"colab-df-container\">\n",
              "      <div>\n",
              "<style scoped>\n",
              "    .dataframe tbody tr th:only-of-type {\n",
              "        vertical-align: middle;\n",
              "    }\n",
              "\n",
              "    .dataframe tbody tr th {\n",
              "        vertical-align: top;\n",
              "    }\n",
              "\n",
              "    .dataframe thead th {\n",
              "        text-align: right;\n",
              "    }\n",
              "</style>\n",
              "<table border=\"1\" class=\"dataframe\">\n",
              "  <thead>\n",
              "    <tr style=\"text-align: right;\">\n",
              "      <th></th>\n",
              "      <th>0</th>\n",
              "    </tr>\n",
              "  </thead>\n",
              "  <tbody>\n",
              "    <tr>\n",
              "      <th>435</th>\n",
              "      <td>120.0</td>\n",
              "    </tr>\n",
              "    <tr>\n",
              "      <th>638</th>\n",
              "      <td>39.6875</td>\n",
              "    </tr>\n",
              "    <tr>\n",
              "      <th>377</th>\n",
              "      <td>211.5</td>\n",
              "    </tr>\n",
              "    <tr>\n",
              "      <th>77</th>\n",
              "      <td>8.05</td>\n",
              "    </tr>\n",
              "  </tbody>\n",
              "</table>\n",
              "</div>\n",
              "      <button class=\"colab-df-convert\" onclick=\"convertToInteractive('df-a4ad0bd7-be5d-4f61-9e42-5eec041fa6eb')\"\n",
              "              title=\"Convert this dataframe to an interactive table.\"\n",
              "              style=\"display:none;\">\n",
              "        \n",
              "  <svg xmlns=\"http://www.w3.org/2000/svg\" height=\"24px\"viewBox=\"0 0 24 24\"\n",
              "       width=\"24px\">\n",
              "    <path d=\"M0 0h24v24H0V0z\" fill=\"none\"/>\n",
              "    <path d=\"M18.56 5.44l.94 2.06.94-2.06 2.06-.94-2.06-.94-.94-2.06-.94 2.06-2.06.94zm-11 1L8.5 8.5l.94-2.06 2.06-.94-2.06-.94L8.5 2.5l-.94 2.06-2.06.94zm10 10l.94 2.06.94-2.06 2.06-.94-2.06-.94-.94-2.06-.94 2.06-2.06.94z\"/><path d=\"M17.41 7.96l-1.37-1.37c-.4-.4-.92-.59-1.43-.59-.52 0-1.04.2-1.43.59L10.3 9.45l-7.72 7.72c-.78.78-.78 2.05 0 2.83L4 21.41c.39.39.9.59 1.41.59.51 0 1.02-.2 1.41-.59l7.78-7.78 2.81-2.81c.8-.78.8-2.07 0-2.86zM5.41 20L4 18.59l7.72-7.72 1.47 1.35L5.41 20z\"/>\n",
              "  </svg>\n",
              "      </button>\n",
              "      \n",
              "  <style>\n",
              "    .colab-df-container {\n",
              "      display:flex;\n",
              "      flex-wrap:wrap;\n",
              "      gap: 12px;\n",
              "    }\n",
              "\n",
              "    .colab-df-convert {\n",
              "      background-color: #E8F0FE;\n",
              "      border: none;\n",
              "      border-radius: 50%;\n",
              "      cursor: pointer;\n",
              "      display: none;\n",
              "      fill: #1967D2;\n",
              "      height: 32px;\n",
              "      padding: 0 0 0 0;\n",
              "      width: 32px;\n",
              "    }\n",
              "\n",
              "    .colab-df-convert:hover {\n",
              "      background-color: #E2EBFA;\n",
              "      box-shadow: 0px 1px 2px rgba(60, 64, 67, 0.3), 0px 1px 3px 1px rgba(60, 64, 67, 0.15);\n",
              "      fill: #174EA6;\n",
              "    }\n",
              "\n",
              "    [theme=dark] .colab-df-convert {\n",
              "      background-color: #3B4455;\n",
              "      fill: #D2E3FC;\n",
              "    }\n",
              "\n",
              "    [theme=dark] .colab-df-convert:hover {\n",
              "      background-color: #434B5C;\n",
              "      box-shadow: 0px 1px 3px 1px rgba(0, 0, 0, 0.15);\n",
              "      filter: drop-shadow(0px 1px 2px rgba(0, 0, 0, 0.3));\n",
              "      fill: #FFFFFF;\n",
              "    }\n",
              "  </style>\n",
              "\n",
              "      <script>\n",
              "        const buttonEl =\n",
              "          document.querySelector('#df-a4ad0bd7-be5d-4f61-9e42-5eec041fa6eb button.colab-df-convert');\n",
              "        buttonEl.style.display =\n",
              "          google.colab.kernel.accessAllowed ? 'block' : 'none';\n",
              "\n",
              "        async function convertToInteractive(key) {\n",
              "          const element = document.querySelector('#df-a4ad0bd7-be5d-4f61-9e42-5eec041fa6eb');\n",
              "          const dataTable =\n",
              "            await google.colab.kernel.invokeFunction('convertToInteractive',\n",
              "                                                     [key], {});\n",
              "          if (!dataTable) return;\n",
              "\n",
              "          const docLinkHtml = 'Like what you see? Visit the ' +\n",
              "            '<a target=\"_blank\" href=https://colab.research.google.com/notebooks/data_table.ipynb>data table notebook</a>'\n",
              "            + ' to learn more about interactive tables.';\n",
              "          element.innerHTML = '';\n",
              "          dataTable['output_type'] = 'display_data';\n",
              "          await google.colab.output.renderOutput(dataTable, element);\n",
              "          const docLink = document.createElement('div');\n",
              "          docLink.innerHTML = docLinkHtml;\n",
              "          element.appendChild(docLink);\n",
              "        }\n",
              "      </script>\n",
              "    </div>\n",
              "  </div>\n",
              "  "
            ],
            "text/plain": [
              "           0\n",
              "435    120.0\n",
              "638  39.6875\n",
              "377    211.5\n",
              "77      8.05"
            ]
          },
          "metadata": {},
          "execution_count": 22
        }
      ],
      "source": [
        "#just for demo, no real purpose\n",
        "pattern = '([0-9.]+)'\n",
        "\n",
        "ti['ticket'].str.extract(pattern).sample(4)"
      ]
    },
    {
      "cell_type": "markdown",
      "metadata": {
        "id": "Q_EAolhu8c7M"
      },
      "source": [
        "## How do I substitue text with pandas?"
      ]
    },
    {
      "cell_type": "code",
      "execution_count": null,
      "metadata": {
        "colab": {
          "base_uri": "https://localhost:8080/"
        },
        "id": "S5WY85zX8c7M",
        "outputId": "89f0d98c-2e53-4d72-cbf9-b3aed9cca97a"
      },
      "outputs": [
        {
          "output_type": "execute_result",
          "data": {
            "text/plain": [
              "709    Ticket: Third; Price: € 15.2458; Port: Cherbourg;\n",
              "Name: ticket, dtype: object"
            ]
          },
          "metadata": {},
          "execution_count": 23
        }
      ],
      "source": [
        "ti['ticket'].str.replace('$', '€').sample(1)"
      ]
    },
    {
      "cell_type": "markdown",
      "metadata": {
        "id": "33PBBpyx8c7M"
      },
      "source": [
        "## What are regular expressions?"
      ]
    },
    {
      "cell_type": "markdown",
      "metadata": {
        "id": "JWSZMYB18c7N"
      },
      "source": [
        "Regular expressions are a language for describing patterns in text. \n",
        "\n",
        "They are separate from python, but may be used within python program. (And elsewhere, eg., often in SQL). \n",
        "\n",
        "They are notoriously difficult to read and write; and as a separate language, an additional tool to learn. "
      ]
    },
    {
      "cell_type": "markdown",
      "metadata": {
        "id": "zcaGB0Fh8c7N"
      },
      "source": [
        "## What regular expression patterns can I use?\n",
        "\n",
        "* literals\n",
        "    * `a`, find me an `a`\n",
        "    * `£`, find `£`\n",
        "    * `!` means `!` \n",
        "    * ... most symbols mean \"find me\"\n",
        "* `.`\n",
        "    * find any **single** symbol \n",
        "* character classes -- find a **single** symbol\n",
        "    * `[abc]` $\\rightarrow$ **either** a, b, c\n",
        "    * `[0-9]` $\\rightarrow$ **either** 0, 1, 2, 3,...9\n",
        "    * `[A-Z]` $\\rightarrow$ **either** capital A, B, ... Z\n",
        "    * inversions\n",
        "        * `[^abc]` $\\rightarrow$ **is not** `a` OR `b` OR `c`\n",
        "        * `[^a-zA-Z0-9 ]`  $\\rightarrow$ **is not** alphanumeric-ish\n",
        "    \n",
        "* alternatives -- find the character**s** given by...\n",
        "    * `(May|June|July)`  $\\rightarrow$ **the whole worlds** May OR June..\n",
        "    "
      ]
    },
    {
      "cell_type": "code",
      "execution_count": null,
      "metadata": {
        "id": "bLMvsfPP8c7O"
      },
      "outputs": [],
      "source": [
        "ti['ticket'].str.extract('(Ticket: (First|Second))')"
      ]
    },
    {
      "cell_type": "code",
      "execution_count": null,
      "metadata": {
        "id": "v1_1Asdf8c7O"
      },
      "outputs": [],
      "source": [
        "ti['ticket'].str.extract('( [0-9][0-9])')"
      ]
    },
    {
      "cell_type": "code",
      "execution_count": null,
      "metadata": {
        "id": "0_mFq1Hf8c7O"
      },
      "outputs": [],
      "source": [
        "ti['ticket'].sample(1)"
      ]
    },
    {
      "cell_type": "code",
      "execution_count": null,
      "metadata": {
        "id": "Uahldmib8c7O"
      },
      "outputs": [],
      "source": [
        "ti['ticket'].str.extract('(Ticket: [A-Z])').sample(2)"
      ]
    },
    {
      "cell_type": "code",
      "execution_count": null,
      "metadata": {
        "id": "X496wDnC8c7P"
      },
      "outputs": [],
      "source": [
        "ti['ticket'].str.extract('(T........)').sample(3)"
      ]
    },
    {
      "cell_type": "code",
      "execution_count": null,
      "metadata": {
        "id": "IUC2wSl48c7P"
      },
      "outputs": [],
      "source": [
        "ti['ticket'].str.extract('(Price: [^0-9A-Za-z] ..)').sample(3)"
      ]
    },
    {
      "cell_type": "code",
      "execution_count": null,
      "metadata": {
        "id": "i0sR5YsZ8c7P"
      },
      "outputs": [],
      "source": [
        "ti['ticket'].str.extract('(Port: (Cherbourg|Southampton))').sample(3)"
      ]
    },
    {
      "cell_type": "markdown",
      "metadata": {
        "id": "5XAfFOrx8c7Q"
      },
      "source": [
        "* repetitions\n",
        "    * optional `?`\n",
        "        * an optional number: `[0-9]?`\n",
        "    * one or more `+`\n",
        "        * one or more spaces: ` +`  \n",
        "    * optional, or more, `*`\n",
        "        * ` [0-9][0-9]?.[0-9]*`\n",
        "    "
      ]
    },
    {
      "cell_type": "code",
      "execution_count": null,
      "metadata": {
        "id": "guJgFPA38c7Q"
      },
      "outputs": [],
      "source": [
        "ti['ticket'].str.extract('([0-9][0-9]?.[0-9]*)').sample(3)"
      ]
    },
    {
      "cell_type": "code",
      "execution_count": null,
      "metadata": {
        "id": "q_oor3UL8c7Q"
      },
      "outputs": [],
      "source": [
        "ti['ticket'].str.extract('(Ticket: [a-zA-Z]+)').sample(3)"
      ]
    },
    {
      "cell_type": "code",
      "execution_count": null,
      "metadata": {
        "id": "7LOanWSX8c7R"
      },
      "outputs": [],
      "source": [
        "row = 0\n",
        "match = 1 # second match\n",
        "\n",
        "ti['ticket'].str.extractall('([a-zA-Z]+: [a-zA-Z]+)').loc[row, match]"
      ]
    },
    {
      "cell_type": "code",
      "execution_count": null,
      "metadata": {
        "id": "993IJskg8c7R"
      },
      "outputs": [],
      "source": [
        "ti['ticket'].str.extract('([a-zA-Z]+tow?n)')"
      ]
    },
    {
      "cell_type": "markdown",
      "metadata": {
        "id": "9dBhvqK88c7S"
      },
      "source": [
        "* EXTRA: \n",
        "    * escaping\n",
        "        * How do I say, literally, the `.` symbol?\n",
        "        * `\\.`\n",
        "    "
      ]
    },
    {
      "cell_type": "code",
      "execution_count": null,
      "metadata": {
        "id": "ObOmUkub8c7S"
      },
      "outputs": [],
      "source": [
        "ti['ticket'].str.extract('(\\$ [0-9]+\\.[0-9]+)').sample(2)"
      ]
    },
    {
      "cell_type": "markdown",
      "metadata": {
        "id": "IIoae7Ny8c7S"
      },
      "source": [
        "* positional matching\n",
        "    * `^` means **at the beginning**\n",
        "    * `$` means **at the end**"
      ]
    },
    {
      "cell_type": "code",
      "execution_count": null,
      "metadata": {
        "id": "A-AXjFW78c7T"
      },
      "outputs": [],
      "source": [
        "ti['ticket'].str.extractall('([a-zA-Z]+: [a-zA-Z]+;$)').sample(1)"
      ]
    },
    {
      "cell_type": "code",
      "execution_count": null,
      "metadata": {
        "id": "OM9tQj6L8c7T",
        "outputId": "27c640c9-3e64-460f-bf40-3882e9d3ed08"
      },
      "outputs": [
        {
          "data": {
            "text/html": [
              "<div>\n",
              "<style scoped>\n",
              "    .dataframe tbody tr th:only-of-type {\n",
              "        vertical-align: middle;\n",
              "    }\n",
              "\n",
              "    .dataframe tbody tr th {\n",
              "        vertical-align: top;\n",
              "    }\n",
              "\n",
              "    .dataframe thead th {\n",
              "        text-align: right;\n",
              "    }\n",
              "</style>\n",
              "<table border=\"1\" class=\"dataframe\">\n",
              "  <thead>\n",
              "    <tr style=\"text-align: right;\">\n",
              "      <th></th>\n",
              "      <th></th>\n",
              "      <th>0</th>\n",
              "    </tr>\n",
              "    <tr>\n",
              "      <th></th>\n",
              "      <th>match</th>\n",
              "      <th></th>\n",
              "    </tr>\n",
              "  </thead>\n",
              "  <tbody>\n",
              "    <tr>\n",
              "      <th>2</th>\n",
              "      <th>0</th>\n",
              "      <td>Ticket: Third;</td>\n",
              "    </tr>\n",
              "  </tbody>\n",
              "</table>\n",
              "</div>"
            ],
            "text/plain": [
              "                      0\n",
              "  match                \n",
              "2 0      Ticket: Third;"
            ]
          },
          "execution_count": 10,
          "metadata": {},
          "output_type": "execute_result"
        }
      ],
      "source": [
        "ti['ticket'].str.extractall('(^[a-zA-Z]+: [a-zA-Z]+;)').sample(1)"
      ]
    },
    {
      "cell_type": "markdown",
      "metadata": {
        "id": "UKSqSohY8c7U"
      },
      "source": [
        "## Next Steps\n",
        "\n",
        "* review a \"Regex Cheat Sheet\"\n",
        "    * also, eg., https://en.wikipedia.org/wiki/Regular_expression#Examples"
      ]
    },
    {
      "cell_type": "markdown",
      "metadata": {
        "id": "_PAGx8dr8c7U"
      },
      "source": [
        "## Exercise (30 min)\n",
        "\n",
        "* find all the words in the tickets \n",
        "    * HINT: a word is a repeated letter followed by a space or a colon\n",
        "    * HINT: `[ :]` means a space or a colon\n",
        "* find all the USD prices\n",
        "    * HINT: ``` \\$ ``` and repeated numbers \n",
        "    \n",
        "* find all the high-price tickets\n",
        "    * HINT: consider `\\$`, tripple-digit number, `\\.`"
      ]
    },
    {
      "cell_type": "code",
      "execution_count": null,
      "metadata": {
        "id": "5VYROXwk8c7U"
      },
      "outputs": [],
      "source": [
        "#Solution"
      ]
    },
    {
      "cell_type": "code",
      "execution_count": null,
      "metadata": {
        "id": "SqnHjk8i8c7U",
        "outputId": "f1e0c81c-6a42-4584-efbc-255072512049"
      },
      "outputs": [
        {
          "data": {
            "text/plain": [
              "372    [Ticket:, Price:, Port:]\n",
              "258    [Ticket:, Price:, Port:]\n",
              "752    [Ticket:, Price:, Port:]\n",
              "369    [Ticket:, Price:, Port:]\n",
              "478    [Ticket:, Price:, Port:]\n",
              "517    [Ticket:, Price:, Port:]\n",
              "461    [Ticket:, Price:, Port:]\n",
              "770    [Ticket:, Price:, Port:]\n",
              "455    [Ticket:, Price:, Port:]\n",
              "657    [Ticket:, Price:, Port:]\n",
              "Name: ticket, dtype: object"
            ]
          },
          "execution_count": 23,
          "metadata": {},
          "output_type": "execute_result"
        }
      ],
      "source": [
        "ti['ticket'].str.findall('([a-zA-Z]+[ :])').sample(10)"
      ]
    },
    {
      "cell_type": "code",
      "execution_count": null,
      "metadata": {
        "id": "0al8Ow0A8c7U",
        "outputId": "742ab904-824c-484f-c050-138ddce076a8"
      },
      "outputs": [
        {
          "data": {
            "text/html": [
              "<div>\n",
              "<style scoped>\n",
              "    .dataframe tbody tr th:only-of-type {\n",
              "        vertical-align: middle;\n",
              "    }\n",
              "\n",
              "    .dataframe tbody tr th {\n",
              "        vertical-align: top;\n",
              "    }\n",
              "\n",
              "    .dataframe thead th {\n",
              "        text-align: right;\n",
              "    }\n",
              "</style>\n",
              "<table border=\"1\" class=\"dataframe\">\n",
              "  <thead>\n",
              "    <tr style=\"text-align: right;\">\n",
              "      <th></th>\n",
              "      <th>0</th>\n",
              "    </tr>\n",
              "  </thead>\n",
              "  <tbody>\n",
              "    <tr>\n",
              "      <th>644</th>\n",
              "      <td>$ 19.2583</td>\n",
              "    </tr>\n",
              "    <tr>\n",
              "      <th>790</th>\n",
              "      <td>$ 7.75</td>\n",
              "    </tr>\n",
              "  </tbody>\n",
              "</table>\n",
              "</div>"
            ],
            "text/plain": [
              "             0\n",
              "644  $ 19.2583\n",
              "790     $ 7.75"
            ]
          },
          "execution_count": 31,
          "metadata": {},
          "output_type": "execute_result"
        }
      ],
      "source": [
        "ti['ticket'].str.extract('(\\$ [0-9]+\\.[0-9]+)').sample(2)"
      ]
    },
    {
      "cell_type": "code",
      "execution_count": null,
      "metadata": {
        "id": "DS_LwtyG8c7V",
        "outputId": "646ba021-1df7-403c-afe5-a197f74539d6"
      },
      "outputs": [
        {
          "data": {
            "text/html": [
              "<div>\n",
              "<style scoped>\n",
              "    .dataframe tbody tr th:only-of-type {\n",
              "        vertical-align: middle;\n",
              "    }\n",
              "\n",
              "    .dataframe tbody tr th {\n",
              "        vertical-align: top;\n",
              "    }\n",
              "\n",
              "    .dataframe thead th {\n",
              "        text-align: right;\n",
              "    }\n",
              "</style>\n",
              "<table border=\"1\" class=\"dataframe\">\n",
              "  <thead>\n",
              "    <tr style=\"text-align: right;\">\n",
              "      <th></th>\n",
              "      <th></th>\n",
              "      <th>0</th>\n",
              "    </tr>\n",
              "    <tr>\n",
              "      <th></th>\n",
              "      <th>match</th>\n",
              "      <th></th>\n",
              "    </tr>\n",
              "  </thead>\n",
              "  <tbody>\n",
              "    <tr>\n",
              "      <th>27</th>\n",
              "      <th>0</th>\n",
              "      <td>$ 263.0</td>\n",
              "    </tr>\n",
              "    <tr>\n",
              "      <th>31</th>\n",
              "      <th>0</th>\n",
              "      <td>$ 146.5208</td>\n",
              "    </tr>\n",
              "    <tr>\n",
              "      <th>88</th>\n",
              "      <th>0</th>\n",
              "      <td>$ 263.0</td>\n",
              "    </tr>\n",
              "    <tr>\n",
              "      <th>118</th>\n",
              "      <th>0</th>\n",
              "      <td>$ 247.5208</td>\n",
              "    </tr>\n",
              "    <tr>\n",
              "      <th>195</th>\n",
              "      <th>0</th>\n",
              "      <td>$ 146.5208</td>\n",
              "    </tr>\n",
              "    <tr>\n",
              "      <th>215</th>\n",
              "      <th>0</th>\n",
              "      <td>$ 113.275</td>\n",
              "    </tr>\n",
              "    <tr>\n",
              "      <th>258</th>\n",
              "      <th>0</th>\n",
              "      <td>$ 512.3292</td>\n",
              "    </tr>\n",
              "    <tr>\n",
              "      <th>268</th>\n",
              "      <th>0</th>\n",
              "      <td>$ 153.4625</td>\n",
              "    </tr>\n",
              "    <tr>\n",
              "      <th>269</th>\n",
              "      <th>0</th>\n",
              "      <td>$ 135.6333</td>\n",
              "    </tr>\n",
              "    <tr>\n",
              "      <th>297</th>\n",
              "      <th>0</th>\n",
              "      <td>$ 151.55</td>\n",
              "    </tr>\n",
              "    <tr>\n",
              "      <th>299</th>\n",
              "      <th>0</th>\n",
              "      <td>$ 247.5208</td>\n",
              "    </tr>\n",
              "    <tr>\n",
              "      <th>305</th>\n",
              "      <th>0</th>\n",
              "      <td>$ 151.55</td>\n",
              "    </tr>\n",
              "    <tr>\n",
              "      <th>306</th>\n",
              "      <th>0</th>\n",
              "      <td>$ 110.8833</td>\n",
              "    </tr>\n",
              "    <tr>\n",
              "      <th>307</th>\n",
              "      <th>0</th>\n",
              "      <td>$ 108.9</td>\n",
              "    </tr>\n",
              "    <tr>\n",
              "      <th>311</th>\n",
              "      <th>0</th>\n",
              "      <td>$ 262.375</td>\n",
              "    </tr>\n",
              "    <tr>\n",
              "      <th>318</th>\n",
              "      <th>0</th>\n",
              "      <td>$ 164.8667</td>\n",
              "    </tr>\n",
              "    <tr>\n",
              "      <th>319</th>\n",
              "      <th>0</th>\n",
              "      <td>$ 134.5</td>\n",
              "    </tr>\n",
              "    <tr>\n",
              "      <th>325</th>\n",
              "      <th>0</th>\n",
              "      <td>$ 135.6333</td>\n",
              "    </tr>\n",
              "    <tr>\n",
              "      <th>332</th>\n",
              "      <th>0</th>\n",
              "      <td>$ 153.4625</td>\n",
              "    </tr>\n",
              "    <tr>\n",
              "      <th>334</th>\n",
              "      <th>0</th>\n",
              "      <td>$ 133.65</td>\n",
              "    </tr>\n",
              "    <tr>\n",
              "      <th>337</th>\n",
              "      <th>0</th>\n",
              "      <td>$ 134.5</td>\n",
              "    </tr>\n",
              "    <tr>\n",
              "      <th>341</th>\n",
              "      <th>0</th>\n",
              "      <td>$ 263.0</td>\n",
              "    </tr>\n",
              "    <tr>\n",
              "      <th>373</th>\n",
              "      <th>0</th>\n",
              "      <td>$ 135.6333</td>\n",
              "    </tr>\n",
              "    <tr>\n",
              "      <th>377</th>\n",
              "      <th>0</th>\n",
              "      <td>$ 211.5</td>\n",
              "    </tr>\n",
              "    <tr>\n",
              "      <th>380</th>\n",
              "      <th>0</th>\n",
              "      <td>$ 227.525</td>\n",
              "    </tr>\n",
              "    <tr>\n",
              "      <th>390</th>\n",
              "      <th>0</th>\n",
              "      <td>$ 120.0</td>\n",
              "    </tr>\n",
              "    <tr>\n",
              "      <th>393</th>\n",
              "      <th>0</th>\n",
              "      <td>$ 113.275</td>\n",
              "    </tr>\n",
              "    <tr>\n",
              "      <th>435</th>\n",
              "      <th>0</th>\n",
              "      <td>$ 120.0</td>\n",
              "    </tr>\n",
              "    <tr>\n",
              "      <th>438</th>\n",
              "      <th>0</th>\n",
              "      <td>$ 263.0</td>\n",
              "    </tr>\n",
              "    <tr>\n",
              "      <th>498</th>\n",
              "      <th>0</th>\n",
              "      <td>$ 151.55</td>\n",
              "    </tr>\n",
              "    <tr>\n",
              "      <th>505</th>\n",
              "      <th>0</th>\n",
              "      <td>$ 108.9</td>\n",
              "    </tr>\n",
              "    <tr>\n",
              "      <th>527</th>\n",
              "      <th>0</th>\n",
              "      <td>$ 221.7792</td>\n",
              "    </tr>\n",
              "    <tr>\n",
              "      <th>537</th>\n",
              "      <th>0</th>\n",
              "      <td>$ 106.425</td>\n",
              "    </tr>\n",
              "    <tr>\n",
              "      <th>544</th>\n",
              "      <th>0</th>\n",
              "      <td>$ 106.425</td>\n",
              "    </tr>\n",
              "    <tr>\n",
              "      <th>550</th>\n",
              "      <th>0</th>\n",
              "      <td>$ 110.8833</td>\n",
              "    </tr>\n",
              "    <tr>\n",
              "      <th>557</th>\n",
              "      <th>0</th>\n",
              "      <td>$ 227.525</td>\n",
              "    </tr>\n",
              "    <tr>\n",
              "      <th>581</th>\n",
              "      <th>0</th>\n",
              "      <td>$ 110.8833</td>\n",
              "    </tr>\n",
              "    <tr>\n",
              "      <th>609</th>\n",
              "      <th>0</th>\n",
              "      <td>$ 153.4625</td>\n",
              "    </tr>\n",
              "    <tr>\n",
              "      <th>659</th>\n",
              "      <th>0</th>\n",
              "      <td>$ 113.275</td>\n",
              "    </tr>\n",
              "    <tr>\n",
              "      <th>660</th>\n",
              "      <th>0</th>\n",
              "      <td>$ 133.65</td>\n",
              "    </tr>\n",
              "    <tr>\n",
              "      <th>679</th>\n",
              "      <th>0</th>\n",
              "      <td>$ 512.3292</td>\n",
              "    </tr>\n",
              "    <tr>\n",
              "      <th>689</th>\n",
              "      <th>0</th>\n",
              "      <td>$ 211.3375</td>\n",
              "    </tr>\n",
              "    <tr>\n",
              "      <th>698</th>\n",
              "      <th>0</th>\n",
              "      <td>$ 110.8833</td>\n",
              "    </tr>\n",
              "    <tr>\n",
              "      <th>700</th>\n",
              "      <th>0</th>\n",
              "      <td>$ 227.525</td>\n",
              "    </tr>\n",
              "    <tr>\n",
              "      <th>708</th>\n",
              "      <th>0</th>\n",
              "      <td>$ 151.55</td>\n",
              "    </tr>\n",
              "    <tr>\n",
              "      <th>716</th>\n",
              "      <th>0</th>\n",
              "      <td>$ 227.525</td>\n",
              "    </tr>\n",
              "    <tr>\n",
              "      <th>730</th>\n",
              "      <th>0</th>\n",
              "      <td>$ 211.3375</td>\n",
              "    </tr>\n",
              "    <tr>\n",
              "      <th>737</th>\n",
              "      <th>0</th>\n",
              "      <td>$ 512.3292</td>\n",
              "    </tr>\n",
              "    <tr>\n",
              "      <th>742</th>\n",
              "      <th>0</th>\n",
              "      <td>$ 262.375</td>\n",
              "    </tr>\n",
              "    <tr>\n",
              "      <th>763</th>\n",
              "      <th>0</th>\n",
              "      <td>$ 120.0</td>\n",
              "    </tr>\n",
              "    <tr>\n",
              "      <th>779</th>\n",
              "      <th>0</th>\n",
              "      <td>$ 211.3375</td>\n",
              "    </tr>\n",
              "    <tr>\n",
              "      <th>802</th>\n",
              "      <th>0</th>\n",
              "      <td>$ 120.0</td>\n",
              "    </tr>\n",
              "    <tr>\n",
              "      <th>856</th>\n",
              "      <th>0</th>\n",
              "      <td>$ 164.8667</td>\n",
              "    </tr>\n",
              "  </tbody>\n",
              "</table>\n",
              "</div>"
            ],
            "text/plain": [
              "                    0\n",
              "    match            \n",
              "27  0         $ 263.0\n",
              "31  0      $ 146.5208\n",
              "88  0         $ 263.0\n",
              "118 0      $ 247.5208\n",
              "195 0      $ 146.5208\n",
              "215 0       $ 113.275\n",
              "258 0      $ 512.3292\n",
              "268 0      $ 153.4625\n",
              "269 0      $ 135.6333\n",
              "297 0        $ 151.55\n",
              "299 0      $ 247.5208\n",
              "305 0        $ 151.55\n",
              "306 0      $ 110.8833\n",
              "307 0         $ 108.9\n",
              "311 0       $ 262.375\n",
              "318 0      $ 164.8667\n",
              "319 0         $ 134.5\n",
              "325 0      $ 135.6333\n",
              "332 0      $ 153.4625\n",
              "334 0        $ 133.65\n",
              "337 0         $ 134.5\n",
              "341 0         $ 263.0\n",
              "373 0      $ 135.6333\n",
              "377 0         $ 211.5\n",
              "380 0       $ 227.525\n",
              "390 0         $ 120.0\n",
              "393 0       $ 113.275\n",
              "435 0         $ 120.0\n",
              "438 0         $ 263.0\n",
              "498 0        $ 151.55\n",
              "505 0         $ 108.9\n",
              "527 0      $ 221.7792\n",
              "537 0       $ 106.425\n",
              "544 0       $ 106.425\n",
              "550 0      $ 110.8833\n",
              "557 0       $ 227.525\n",
              "581 0      $ 110.8833\n",
              "609 0      $ 153.4625\n",
              "659 0       $ 113.275\n",
              "660 0        $ 133.65\n",
              "679 0      $ 512.3292\n",
              "689 0      $ 211.3375\n",
              "698 0      $ 110.8833\n",
              "700 0       $ 227.525\n",
              "708 0        $ 151.55\n",
              "716 0       $ 227.525\n",
              "730 0      $ 211.3375\n",
              "737 0      $ 512.3292\n",
              "742 0       $ 262.375\n",
              "763 0         $ 120.0\n",
              "779 0      $ 211.3375\n",
              "802 0         $ 120.0\n",
              "856 0      $ 164.8667"
            ]
          },
          "execution_count": 69,
          "metadata": {},
          "output_type": "execute_result"
        }
      ],
      "source": [
        "row = 0\n",
        "match = 1 # second match\n",
        "ti['ticket'].str.extractall('(\\$ [0-9][0-9][0-9]+\\.[0-9]+)')#.loc[row, 0]"
      ]
    },
    {
      "cell_type": "code",
      "execution_count": null,
      "metadata": {
        "id": "7InjrWDH8c7V"
      },
      "outputs": [],
      "source": [
        ""
      ]
    }
  ],
  "metadata": {
    "celltoolbar": "Slideshow",
    "kernelspec": {
      "display_name": "Python 3",
      "language": "python",
      "name": "python3"
    },
    "language_info": {
      "codemirror_mode": {
        "name": "ipython",
        "version": 3
      },
      "file_extension": ".py",
      "mimetype": "text/x-python",
      "name": "python",
      "nbconvert_exporter": "python",
      "pygments_lexer": "ipython3",
      "version": "3.7.4"
    },
    "colab": {
      "name": "02 TextAnalysisRegex.ipynb",
      "provenance": [],
      "include_colab_link": true
    }
  },
  "nbformat": 4,
  "nbformat_minor": 0
}