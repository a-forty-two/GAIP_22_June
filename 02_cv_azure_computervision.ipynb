{
  "nbformat": 4,
  "nbformat_minor": 0,
  "metadata": {
    "colab": {
      "name": "03_cv_azure_computervision.ipynb",
      "provenance": [],
      "authorship_tag": "ABX9TyPAhTtGJ1DmAtUts1vbIIo5",
      "include_colab_link": true
    },
    "kernelspec": {
      "name": "python3",
      "display_name": "Python 3"
    },
    "language_info": {
      "name": "python"
    }
  },
  "cells": [
    {
      "cell_type": "markdown",
      "metadata": {
        "id": "view-in-github",
        "colab_type": "text"
      },
      "source": [
        "<a href=\"https://colab.research.google.com/github/a-forty-two/GAIP_22_June/blob/main/02_cv_azure_computervision.ipynb\" target=\"_parent\"><img src=\"https://colab.research.google.com/assets/colab-badge.svg\" alt=\"Open In Colab\"/></a>"
      ]
    },
    {
      "cell_type": "code",
      "source": [
        "# ACCESS STORAGE ACCOUNT using following key\n",
        "# DefaultEndpointsProtocol=https;AccountName=madhuratcatcherprivate;AccountKey=fyYDZMmCyi2ciaBafoZ3Gg6d8y5tfBK/BMKQyp17dj7yRR2zf3sP44QVAnheq1KBY3usR2Xpz0mu+ASt1CaH2Q==;EndpointSuffix=core.windows.net"
      ],
      "metadata": {
        "id": "pQGrU8Ud95oC"
      },
      "execution_count": null,
      "outputs": []
    },
    {
      "cell_type": "code",
      "source": [
        ""
      ],
      "metadata": {
        "id": "VWvj11Tk95hB"
      },
      "execution_count": null,
      "outputs": []
    },
    {
      "cell_type": "code",
      "execution_count": 1,
      "metadata": {
        "colab": {
          "base_uri": "https://localhost:8080/"
        },
        "id": "VywjqnEhlhDA",
        "outputId": "50c7ad34-c0ea-4744-96e4-a6d73e2bd6f3"
      },
      "outputs": [
        {
          "output_type": "stream",
          "name": "stdout",
          "text": [
            "Looking in indexes: https://pypi.org/simple, https://us-python.pkg.dev/colab-wheels/public/simple/\n",
            "Collecting azure-cognitiveservices-vision-computervision\n",
            "  Downloading azure_cognitiveservices_vision_computervision-0.9.0-py2.py3-none-any.whl (39 kB)\n",
            "Collecting azure-common~=1.1\n",
            "  Downloading azure_common-1.1.28-py2.py3-none-any.whl (14 kB)\n",
            "Collecting msrest>=0.5.0\n",
            "  Downloading msrest-0.7.1-py3-none-any.whl (85 kB)\n",
            "\u001b[K     |████████████████████████████████| 85 kB 2.8 MB/s \n",
            "\u001b[?25hRequirement already satisfied: requests-oauthlib>=0.5.0 in /usr/local/lib/python3.7/dist-packages (from msrest>=0.5.0->azure-cognitiveservices-vision-computervision) (1.3.1)\n",
            "Collecting azure-core>=1.24.0\n",
            "  Downloading azure_core-1.24.1-py3-none-any.whl (178 kB)\n",
            "\u001b[K     |████████████████████████████████| 178 kB 40.6 MB/s \n",
            "\u001b[?25hCollecting isodate>=0.6.0\n",
            "  Downloading isodate-0.6.1-py2.py3-none-any.whl (41 kB)\n",
            "\u001b[K     |████████████████████████████████| 41 kB 596 kB/s \n",
            "\u001b[?25hRequirement already satisfied: requests~=2.16 in /usr/local/lib/python3.7/dist-packages (from msrest>=0.5.0->azure-cognitiveservices-vision-computervision) (2.23.0)\n",
            "Requirement already satisfied: certifi>=2017.4.17 in /usr/local/lib/python3.7/dist-packages (from msrest>=0.5.0->azure-cognitiveservices-vision-computervision) (2022.6.15)\n",
            "Requirement already satisfied: six>=1.11.0 in /usr/local/lib/python3.7/dist-packages (from azure-core>=1.24.0->msrest>=0.5.0->azure-cognitiveservices-vision-computervision) (1.15.0)\n",
            "Requirement already satisfied: typing-extensions>=4.0.1 in /usr/local/lib/python3.7/dist-packages (from azure-core>=1.24.0->msrest>=0.5.0->azure-cognitiveservices-vision-computervision) (4.1.1)\n",
            "Requirement already satisfied: urllib3!=1.25.0,!=1.25.1,<1.26,>=1.21.1 in /usr/local/lib/python3.7/dist-packages (from requests~=2.16->msrest>=0.5.0->azure-cognitiveservices-vision-computervision) (1.24.3)\n",
            "Requirement already satisfied: idna<3,>=2.5 in /usr/local/lib/python3.7/dist-packages (from requests~=2.16->msrest>=0.5.0->azure-cognitiveservices-vision-computervision) (2.10)\n",
            "Requirement already satisfied: chardet<4,>=3.0.2 in /usr/local/lib/python3.7/dist-packages (from requests~=2.16->msrest>=0.5.0->azure-cognitiveservices-vision-computervision) (3.0.4)\n",
            "Requirement already satisfied: oauthlib>=3.0.0 in /usr/local/lib/python3.7/dist-packages (from requests-oauthlib>=0.5.0->msrest>=0.5.0->azure-cognitiveservices-vision-computervision) (3.2.0)\n",
            "Installing collected packages: isodate, azure-core, msrest, azure-common, azure-cognitiveservices-vision-computervision\n",
            "Successfully installed azure-cognitiveservices-vision-computervision-0.9.0 azure-common-1.1.28 azure-core-1.24.1 isodate-0.6.1 msrest-0.7.1\n",
            "Looking in indexes: https://pypi.org/simple, https://us-python.pkg.dev/colab-wheels/public/simple/\n",
            "Requirement already satisfied: pillow in /usr/local/lib/python3.7/dist-packages (7.1.2)\n"
          ]
        }
      ],
      "source": [
        "!pip install --upgrade azure-cognitiveservices-vision-computervision\n",
        "!pip install pillow"
      ]
    },
    {
      "cell_type": "code",
      "source": [
        "from azure.cognitiveservices.vision.computervision import ComputerVisionClient\n",
        "from azure.cognitiveservices.vision.computervision.models import OperationStatusCodes\n",
        "from azure.cognitiveservices.vision.computervision.models import VisualFeatureTypes\n",
        "from msrest.authentication import CognitiveServicesCredentials\n",
        "\n",
        "from array import array\n",
        "import os\n",
        "from PIL import Image\n",
        "import sys\n",
        "import time"
      ],
      "metadata": {
        "id": "WXcPBtGflu4s"
      },
      "execution_count": 2,
      "outputs": []
    },
    {
      "cell_type": "code",
      "source": [
        "subscription_key = \"d6d6bae3b5e74a13ab84025266c7d66b\"\n",
        "endpoint = \"https://hungryhippo.cognitiveservices.azure.com/\""
      ],
      "metadata": {
        "id": "mlV2vvkHl_xS"
      },
      "execution_count": 3,
      "outputs": []
    },
    {
      "cell_type": "code",
      "source": [
        "#authenticate our notebook for azure computer vision\n",
        "cvcredentials = CognitiveServicesCredentials(subscription_key)\n",
        "computervision_client = ComputerVisionClient(endpoint, cvcredentials)"
      ],
      "metadata": {
        "id": "xCwWq4hJoWDV"
      },
      "execution_count": 4,
      "outputs": []
    },
    {
      "cell_type": "code",
      "source": [
        "baseurl = 'https://madhuratcatcherprivate.blob.core.windows.net/lake/'\n",
        "imgname = ['BSG', 'rickandmorty','logos','robodoggo', 'batman']\n",
        "imgurl = {}\n",
        "for i in range(5):\n",
        "  fname =  baseurl + '0' + str(i+1) + '.jpeg'\n",
        "  imgurl[imgname[i]] = fname\n",
        "imgurl"
      ],
      "metadata": {
        "colab": {
          "base_uri": "https://localhost:8080/"
        },
        "id": "UcIe232poqse",
        "outputId": "8a93fabf-7750-430b-c0cc-e2e734d37bfa"
      },
      "execution_count": 5,
      "outputs": [
        {
          "output_type": "execute_result",
          "data": {
            "text/plain": [
              "{'BSG': 'https://madhuratcatcherprivate.blob.core.windows.net/lake/01.jpeg',\n",
              " 'batman': 'https://madhuratcatcherprivate.blob.core.windows.net/lake/05.jpeg',\n",
              " 'logos': 'https://madhuratcatcherprivate.blob.core.windows.net/lake/03.jpeg',\n",
              " 'rickandmorty': 'https://madhuratcatcherprivate.blob.core.windows.net/lake/02.jpeg',\n",
              " 'robodoggo': 'https://madhuratcatcherprivate.blob.core.windows.net/lake/04.jpeg'}"
            ]
          },
          "metadata": {},
          "execution_count": 5
        }
      ]
    },
    {
      "cell_type": "code",
      "source": [
        "dir(computervision_client)"
      ],
      "metadata": {
        "colab": {
          "base_uri": "https://localhost:8080/"
        },
        "id": "YzWphM3f4amu",
        "outputId": "6bdcbbee-0f67-431d-f74c-aa4525a6cfab"
      },
      "execution_count": 6,
      "outputs": [
        {
          "output_type": "execute_result",
          "data": {
            "text/plain": [
              "['__class__',\n",
              " '__delattr__',\n",
              " '__dict__',\n",
              " '__dir__',\n",
              " '__doc__',\n",
              " '__enter__',\n",
              " '__eq__',\n",
              " '__exit__',\n",
              " '__format__',\n",
              " '__ge__',\n",
              " '__getattribute__',\n",
              " '__gt__',\n",
              " '__hash__',\n",
              " '__init__',\n",
              " '__init_subclass__',\n",
              " '__le__',\n",
              " '__lt__',\n",
              " '__module__',\n",
              " '__ne__',\n",
              " '__new__',\n",
              " '__reduce__',\n",
              " '__reduce_ex__',\n",
              " '__repr__',\n",
              " '__setattr__',\n",
              " '__sizeof__',\n",
              " '__str__',\n",
              " '__subclasshook__',\n",
              " '__weakref__',\n",
              " '_client',\n",
              " '_deserialize',\n",
              " '_serialize',\n",
              " 'analyze_image',\n",
              " 'analyze_image_by_domain',\n",
              " 'analyze_image_by_domain_in_stream',\n",
              " 'analyze_image_in_stream',\n",
              " 'api_version',\n",
              " 'close',\n",
              " 'config',\n",
              " 'describe_image',\n",
              " 'describe_image_in_stream',\n",
              " 'detect_objects',\n",
              " 'detect_objects_in_stream',\n",
              " 'generate_thumbnail',\n",
              " 'generate_thumbnail_in_stream',\n",
              " 'get_area_of_interest',\n",
              " 'get_area_of_interest_in_stream',\n",
              " 'get_read_result',\n",
              " 'list_models',\n",
              " 'read',\n",
              " 'read_in_stream',\n",
              " 'recognize_printed_text',\n",
              " 'recognize_printed_text_in_stream',\n",
              " 'tag_image',\n",
              " 'tag_image_in_stream']"
            ]
          },
          "metadata": {},
          "execution_count": 6
        }
      ]
    },
    {
      "cell_type": "code",
      "source": [
        "computervision_client.__dict__"
      ],
      "metadata": {
        "colab": {
          "base_uri": "https://localhost:8080/"
        },
        "id": "t57Wgt6z5TJd",
        "outputId": "dc5b2e8a-e29f-4e83-e04f-579e1638dde6"
      },
      "execution_count": 7,
      "outputs": [
        {
          "output_type": "execute_result",
          "data": {
            "text/plain": [
              "{'_client': <msrest.service_client.ServiceClient at 0x7f8e10c53250>,\n",
              " '_deserialize': <msrest.serialization.Deserializer at 0x7f8e10c68590>,\n",
              " '_serialize': <msrest.serialization.Serializer at 0x7f8e10c681d0>,\n",
              " 'api_version': '3.2',\n",
              " 'config': <azure.cognitiveservices.vision.computervision._configuration.ComputerVisionClientConfiguration at 0x7f8e10c53a90>}"
            ]
          },
          "metadata": {},
          "execution_count": 7
        }
      ]
    },
    {
      "cell_type": "code",
      "source": [
        "for imname, imgur in imgurl.items():\n",
        "  description_results = computervision_client.describe_image(imgur)\n",
        "  print('Image = ' + imname)\n",
        "  print()\n",
        "  # Get the captions (descriptions) from the response, with confidence level\n",
        "  print(\"Description of remote image: \")\n",
        "  if (len(description_results.captions) == 0):\n",
        "      print(\"No description detected.\")\n",
        "      print('****')\n",
        "  else:\n",
        "      for caption in description_results.captions:\n",
        "          print(\"'{}' with confidence {:.2f}%\".format(caption.text, caption.confidence * 100))\n",
        "      print('****')"
      ],
      "metadata": {
        "colab": {
          "base_uri": "https://localhost:8080/"
        },
        "id": "UrZKf3ZBu4rv",
        "outputId": "1140747c-58f0-4f80-8a06-29f3a2d10935"
      },
      "execution_count": 8,
      "outputs": [
        {
          "output_type": "stream",
          "name": "stdout",
          "text": [
            "Image = BSG\n",
            "\n",
            "Description of remote image: \n",
            "'a person standing on a stage with a crowd watching' with confidence 42.13%\n",
            "****\n",
            "Image = rickandmorty\n",
            "\n",
            "Description of remote image: \n",
            "'a person and a boy' with confidence 40.46%\n",
            "****\n",
            "Image = logos\n",
            "\n",
            "Description of remote image: \n",
            "'logo, company name' with confidence 99.79%\n",
            "****\n",
            "Image = robodoggo\n",
            "\n",
            "Description of remote image: \n",
            "'a yellow and black bicycle' with confidence 36.50%\n",
            "****\n",
            "Image = batman\n",
            "\n",
            "Description of remote image: \n",
            "'a collage of a man and a cat' with confidence 58.26%\n",
            "****\n"
          ]
        }
      ]
    },
    {
      "cell_type": "code",
      "source": [
        "for imname, imgur in imgurl.items():\n",
        "  print(imgur)"
      ],
      "metadata": {
        "colab": {
          "base_uri": "https://localhost:8080/"
        },
        "id": "wJl4rDG96k-L",
        "outputId": "caf33cfd-f89f-4f89-d9bc-64b033f7bf2a"
      },
      "execution_count": 10,
      "outputs": [
        {
          "output_type": "stream",
          "name": "stdout",
          "text": [
            "https://madhuratcatcherprivate.blob.core.windows.net/lake/01.jpeg\n",
            "https://madhuratcatcherprivate.blob.core.windows.net/lake/02.jpeg\n",
            "https://madhuratcatcherprivate.blob.core.windows.net/lake/03.jpeg\n",
            "https://madhuratcatcherprivate.blob.core.windows.net/lake/04.jpeg\n",
            "https://madhuratcatcherprivate.blob.core.windows.net/lake/05.jpeg\n"
          ]
        }
      ]
    },
    {
      "cell_type": "code",
      "source": [
        "for imname, imgur in imgurl.items():\n",
        "\n",
        "  remote_image_features = [\"categories\"]\n",
        "  # Call API with URL and features\n",
        "  try:\n",
        "    categorize_results_remote = computervision_client.analyze_image(imgur , remote_image_features)\n",
        "    print(imname)\n",
        "    # Print results with confidence score\n",
        "    print(\"Categories from remote image: \")\n",
        "    if (len(categorize_results_remote.categories) == 0):\n",
        "        print(\"No categories detected.\")\n",
        "        print('*****')\n",
        "    else:\n",
        "        for category in categorize_results_remote.categories:\n",
        "            print(\"'{}' with confidence {:.2f}%\".format(category.name, category.score * 100))\n",
        "        print('*****')\n",
        "  except:\n",
        "    print('Some random error happened. Move on.')\n",
        "    continue"
      ],
      "metadata": {
        "colab": {
          "base_uri": "https://localhost:8080/"
        },
        "id": "J06CTF-VwIXE",
        "outputId": "1d7b4c29-6612-4078-be24-ab30d92dba8d"
      },
      "execution_count": 11,
      "outputs": [
        {
          "output_type": "stream",
          "name": "stdout",
          "text": [
            "BSG\n",
            "Categories from remote image: \n",
            "'people_many' with confidence 37.50%\n",
            "'people_show' with confidence 31.25%\n",
            "*****\n",
            "Some random error happened. Move on.\n",
            "logos\n",
            "Categories from remote image: \n",
            "'others_' with confidence 1.17%\n",
            "'text_sign' with confidence 74.61%\n",
            "*****\n",
            "robodoggo\n",
            "Categories from remote image: \n",
            "'trans_bicycle' with confidence 99.22%\n",
            "*****\n",
            "Some random error happened. Move on.\n"
          ]
        }
      ]
    },
    {
      "cell_type": "code",
      "source": [
        "for imname, imgur in imgurl.items():\n",
        "\n",
        "  # Call API with remote image\n",
        "  tags_result_remote = computervision_client.tag_image(imgur)\n",
        "  print(imname)\n",
        "  # Print results with confidence score\n",
        "  print(\"Tags in the remote image: \")\n",
        "  if (len(tags_result_remote.tags) == 0):\n",
        "      print(\"No tags detected.\")\n",
        "      print('****')\n",
        "  else:\n",
        "      for tag in tags_result_remote.tags:\n",
        "          print(\"'{}' with confidence {:.2f}%\".format(tag.name, tag.confidence * 100))\n",
        "      print('****')"
      ],
      "metadata": {
        "colab": {
          "base_uri": "https://localhost:8080/"
        },
        "id": "BWGXnD_T4JSZ",
        "outputId": "5d0e5885-4597-4ee4-f8f2-90e5306caec4"
      },
      "execution_count": 12,
      "outputs": [
        {
          "output_type": "stream",
          "name": "stdout",
          "text": [
            "BSG\n",
            "Tags in the remote image: \n",
            "'clothing' with confidence 97.26%\n",
            "'person' with confidence 96.12%\n",
            "'woman' with confidence 92.54%\n",
            "'man' with confidence 89.96%\n",
            "'people' with confidence 68.62%\n",
            "****\n",
            "rickandmorty\n",
            "Tags in the remote image: \n",
            "'animated cartoon' with confidence 93.96%\n",
            "'illustration' with confidence 93.01%\n",
            "'animation' with confidence 92.51%\n",
            "'cartoon' with confidence 90.05%\n",
            "'drawing' with confidence 87.26%\n",
            "'clipart' with confidence 57.45%\n",
            "'anime' with confidence 40.79%\n",
            "****\n",
            "logos\n",
            "Tags in the remote image: \n",
            "'text' with confidence 99.82%\n",
            "'screenshot' with confidence 96.53%\n",
            "'font' with confidence 92.99%\n",
            "'logo' with confidence 92.14%\n",
            "'graphics' with confidence 86.75%\n",
            "'brand' with confidence 85.73%\n",
            "'number' with confidence 85.07%\n",
            "'symbol' with confidence 84.05%\n",
            "'design' with confidence 43.87%\n",
            "****\n",
            "robodoggo\n",
            "Tags in the remote image: \n",
            "'outdoor' with confidence 97.68%\n",
            "'ground' with confidence 97.61%\n",
            "'tree' with confidence 93.16%\n",
            "'yellow' with confidence 89.25%\n",
            "'grass' with confidence 70.98%\n",
            "'sidewalk' with confidence 70.25%\n",
            "'street' with confidence 65.51%\n",
            "'lever' with confidence 62.63%\n",
            "'drone' with confidence 43.60%\n",
            "'bike' with confidence 42.60%\n",
            "****\n",
            "batman\n",
            "Tags in the remote image: \n",
            "'human face' with confidence 95.81%\n",
            "'mammal' with confidence 95.67%\n",
            "'person' with confidence 95.34%\n",
            "'mask' with confidence 92.31%\n",
            "'cat' with confidence 91.21%\n",
            "'masque' with confidence 90.55%\n",
            "'black' with confidence 90.21%\n",
            "'batman' with confidence 89.94%\n",
            "'black cat' with confidence 85.81%\n",
            "'indoor' with confidence 82.77%\n",
            "'clothing' with confidence 70.79%\n",
            "'posing' with confidence 64.04%\n",
            "****\n"
          ]
        }
      ]
    },
    {
      "cell_type": "code",
      "source": [
        "for imname, imgur in imgurl.items():\n",
        "  detect_objects_results_remote = computervision_client.detect_objects(imgur)\n",
        "  print('*****')\n",
        "  print(imname)\n",
        "  # Print detected objects results with bounding boxes\n",
        "  print(\"Detecting objects in remote image:\")\n",
        "  if len(detect_objects_results_remote.objects) == 0:\n",
        "      print(\"No objects detected.\")\n",
        "  else:\n",
        "      for object in detect_objects_results_remote.objects:\n",
        "          print(\"object at location {}, {}, {}, {}\".format( \\\n",
        "          object.rectangle.x, object.rectangle.x + object.rectangle.w, \\\n",
        "          object.rectangle.y, object.rectangle.y + object.rectangle.h))"
      ],
      "metadata": {
        "colab": {
          "base_uri": "https://localhost:8080/"
        },
        "id": "BsRIAqMi4Xba",
        "outputId": "c8a9341c-8692-4f9f-cc4b-e62f7959db76"
      },
      "execution_count": 13,
      "outputs": [
        {
          "output_type": "stream",
          "name": "stdout",
          "text": [
            "*****\n",
            "BSG\n",
            "Detecting objects in remote image:\n",
            "object at location 617, 703, 164, 297\n",
            "object at location 757, 831, 172, 289\n",
            "object at location 668, 758, 137, 289\n",
            "object at location 770, 875, 134, 292\n",
            "object at location 833, 941, 130, 309\n",
            "*****\n",
            "rickandmorty\n",
            "Detecting objects in remote image:\n",
            "object at location 257, 656, 368, 1037\n",
            "*****\n",
            "logos\n",
            "Detecting objects in remote image:\n",
            "No objects detected.\n",
            "*****\n",
            "robodoggo\n",
            "Detecting objects in remote image:\n",
            "object at location 300, 942, 24, 528\n",
            "*****\n",
            "batman\n",
            "Detecting objects in remote image:\n",
            "object at location 2, 166, 70, 281\n",
            "object at location 11, 334, 17, 320\n",
            "object at location 11, 313, 329, 636\n",
            "object at location 302, 635, 331, 639\n"
          ]
        }
      ]
    },
    {
      "cell_type": "code",
      "source": [
        "\n",
        "for imgname, imgur in imgurl.items():\n",
        "    \n",
        "  remote_image_url_faces = imgur\n",
        "  # Select the visual feature(s) you want.\n",
        "  remote_image_features = [\"faces\"]\n",
        "  # Call the API with remote URL and features\n",
        "  detect_faces_results_remote = computervision_client.analyze_image(remote_image_url_faces, remote_image_features)\n",
        "  print('****')\n",
        "  print(imgname)\n",
        "  # Print the results with gender, age, and bounding box\n",
        "  print(\"Faces in the remote image: \")\n",
        "  if (len(detect_faces_results_remote.faces) == 0):\n",
        "      print(\"No faces detected.\")\n",
        "  else:\n",
        "      for face in detect_faces_results_remote.faces:\n",
        "          print(\"'{}' of age {} at location {}, {}, {}, {}\".format(face.gender, face.age, \\\n",
        "          face.face_rectangle.left, face.face_rectangle.top, \\\n",
        "          face.face_rectangle.left + face.face_rectangle.width, \\\n",
        "          face.face_rectangle.top + face.face_rectangle.height))"
      ],
      "metadata": {
        "colab": {
          "base_uri": "https://localhost:8080/",
          "height": 454
        },
        "id": "0vtUDtSU5aWT",
        "outputId": "8f89d48d-50d5-43d6-c30d-c410fe00f0be"
      },
      "execution_count": 14,
      "outputs": [
        {
          "output_type": "stream",
          "name": "stdout",
          "text": [
            "****\n",
            "BSG\n",
            "Faces in the remote image: \n",
            "No faces detected.\n"
          ]
        },
        {
          "output_type": "error",
          "ename": "ComputerVisionErrorResponseException",
          "evalue": "ignored",
          "traceback": [
            "\u001b[0;31m---------------------------------------------------------------------------\u001b[0m",
            "\u001b[0;31mComputerVisionErrorResponseException\u001b[0m      Traceback (most recent call last)",
            "\u001b[0;32m<ipython-input-14-da0ffc400c71>\u001b[0m in \u001b[0;36m<module>\u001b[0;34m()\u001b[0m\n\u001b[1;32m      6\u001b[0m   \u001b[0mremote_image_features\u001b[0m \u001b[0;34m=\u001b[0m \u001b[0;34m[\u001b[0m\u001b[0;34m\"faces\"\u001b[0m\u001b[0;34m]\u001b[0m\u001b[0;34m\u001b[0m\u001b[0;34m\u001b[0m\u001b[0m\n\u001b[1;32m      7\u001b[0m   \u001b[0;31m# Call the API with remote URL and features\u001b[0m\u001b[0;34m\u001b[0m\u001b[0;34m\u001b[0m\u001b[0;34m\u001b[0m\u001b[0m\n\u001b[0;32m----> 8\u001b[0;31m   \u001b[0mdetect_faces_results_remote\u001b[0m \u001b[0;34m=\u001b[0m \u001b[0mcomputervision_client\u001b[0m\u001b[0;34m.\u001b[0m\u001b[0manalyze_image\u001b[0m\u001b[0;34m(\u001b[0m\u001b[0mremote_image_url_faces\u001b[0m\u001b[0;34m,\u001b[0m \u001b[0mremote_image_features\u001b[0m\u001b[0;34m)\u001b[0m\u001b[0;34m\u001b[0m\u001b[0;34m\u001b[0m\u001b[0m\n\u001b[0m\u001b[1;32m      9\u001b[0m   \u001b[0mprint\u001b[0m\u001b[0;34m(\u001b[0m\u001b[0;34m'****'\u001b[0m\u001b[0;34m)\u001b[0m\u001b[0;34m\u001b[0m\u001b[0;34m\u001b[0m\u001b[0m\n\u001b[1;32m     10\u001b[0m   \u001b[0mprint\u001b[0m\u001b[0;34m(\u001b[0m\u001b[0mimgname\u001b[0m\u001b[0;34m)\u001b[0m\u001b[0;34m\u001b[0m\u001b[0;34m\u001b[0m\u001b[0m\n",
            "\u001b[0;32m/usr/local/lib/python3.7/dist-packages/azure/cognitiveservices/vision/computervision/operations/_computer_vision_client_operations.py\u001b[0m in \u001b[0;36manalyze_image\u001b[0;34m(self, url, visual_features, details, language, description_exclude, model_version, custom_headers, raw, **operation_config)\u001b[0m\n\u001b[1;32m    120\u001b[0m \u001b[0;34m\u001b[0m\u001b[0m\n\u001b[1;32m    121\u001b[0m         \u001b[0;32mif\u001b[0m \u001b[0mresponse\u001b[0m\u001b[0;34m.\u001b[0m\u001b[0mstatus_code\u001b[0m \u001b[0;32mnot\u001b[0m \u001b[0;32min\u001b[0m \u001b[0;34m[\u001b[0m\u001b[0;36m200\u001b[0m\u001b[0;34m]\u001b[0m\u001b[0;34m:\u001b[0m\u001b[0;34m\u001b[0m\u001b[0;34m\u001b[0m\u001b[0m\n\u001b[0;32m--> 122\u001b[0;31m             \u001b[0;32mraise\u001b[0m \u001b[0mmodels\u001b[0m\u001b[0;34m.\u001b[0m\u001b[0mComputerVisionErrorResponseException\u001b[0m\u001b[0;34m(\u001b[0m\u001b[0mself\u001b[0m\u001b[0;34m.\u001b[0m\u001b[0m_deserialize\u001b[0m\u001b[0;34m,\u001b[0m \u001b[0mresponse\u001b[0m\u001b[0;34m)\u001b[0m\u001b[0;34m\u001b[0m\u001b[0;34m\u001b[0m\u001b[0m\n\u001b[0m\u001b[1;32m    123\u001b[0m \u001b[0;34m\u001b[0m\u001b[0m\n\u001b[1;32m    124\u001b[0m         \u001b[0mdeserialized\u001b[0m \u001b[0;34m=\u001b[0m \u001b[0;32mNone\u001b[0m\u001b[0;34m\u001b[0m\u001b[0;34m\u001b[0m\u001b[0m\n",
            "\u001b[0;31mComputerVisionErrorResponseException\u001b[0m: (InvalidRequest) Input data is not a valid image"
          ]
        }
      ]
    },
    {
      "cell_type": "code",
      "source": [
        ""
      ],
      "metadata": {
        "id": "ZYAD5lI-59Ga"
      },
      "execution_count": null,
      "outputs": []
    }
  ]
}