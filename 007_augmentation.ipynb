{
  "cells": [
    {
      "cell_type": "markdown",
      "metadata": {
        "id": "view-in-github",
        "colab_type": "text"
      },
      "source": [
        "<a href=\"https://colab.research.google.com/github/a-forty-two/GAIP_22_June/blob/main/007_augmentation.ipynb\" target=\"_parent\"><img src=\"https://colab.research.google.com/assets/colab-badge.svg\" alt=\"Open In Colab\"/></a>"
      ]
    },
    {
      "cell_type": "code",
      "source": [
        "# Fixing Overfitting \n",
        "# 1) Dropout \n",
        "# 2) L1/L2 regularization- kernel (weights) or bias \n",
        "# 3) Hyper-parameter tuning \n",
        "# 4) Early Stopping- delay (5 iterations), evaluation interval (1?2?)\n",
        "# 5) Data Augmentation"
      ],
      "metadata": {
        "id": "64KyMG3gMrcM"
      },
      "execution_count": null,
      "outputs": []
    },
    {
      "cell_type": "code",
      "source": [
        "# example- Face \n",
        "# glasses, cosmetic, mask,.... -> Dropout\n",
        "# angle, closely, faraway, upside down! \n",
        "# data augmentation-\n",
        "# generate trignometric and geometric functions (PROBABILISTICALLY)\n",
        "# sin/cos/tan/cot - anglular variations! \n",
        "# zooming! - geometric functions, pooling \n",
        "# padding - 0 padding means black! nearest padding- nearby pixel is used \n",
        "# to derive \n",
        "#     - photoshop-> remove the background, and refill it-> nearest pixel pads!\n"
      ],
      "metadata": {
        "id": "mm7Jv_86NvLk"
      },
      "execution_count": null,
      "outputs": []
    },
    {
      "cell_type": "code",
      "execution_count": null,
      "metadata": {
        "colab": {
          "base_uri": "https://localhost:8080/"
        },
        "id": "UQybHlkD5p_A",
        "outputId": "d6ff0d1c-2c20-41e0-f7a9-d8180498880d"
      },
      "outputs": [
        {
          "output_type": "stream",
          "name": "stdout",
          "text": [
            "ricky.jpeg  sample_data\n"
          ]
        }
      ],
      "source": [
        "!ls"
      ]
    },
    {
      "cell_type": "code",
      "execution_count": null,
      "metadata": {
        "id": "wNq8v_Gk5p_C"
      },
      "outputs": [],
      "source": [
        "from keras.preprocessing.image import load_img, img_to_array\n",
        "img = load_img('ricky.jpeg', target_size=(224,224))\n",
        "# Tf is built for distributed computing\n",
        "# but PANDAS, NumPy, OpenCV are NOT!\n",
        "# avoid using them when using tf!\n",
        "# pandas/numpy -> tf.data -> rowsets, dataset, parquet!\n",
        "# OpenCV -> don't preprocess or resize images! \n"
      ]
    },
    {
      "cell_type": "code",
      "execution_count": null,
      "metadata": {
        "colab": {
          "base_uri": "https://localhost:8080/"
        },
        "id": "m8jJoXc-5p_D",
        "outputId": "5caa7cc1-860c-453c-941b-209a6e56c6db"
      },
      "outputs": [
        {
          "output_type": "execute_result",
          "data": {
            "text/plain": [
              "(224, 224, 3)"
            ]
          },
          "metadata": {},
          "execution_count": 3
        }
      ],
      "source": [
        "img = img_to_array(img)\n",
        "img.shape\n",
        "# RGB is for us!\n",
        "# the default here is BGR! "
      ]
    },
    {
      "cell_type": "code",
      "execution_count": null,
      "metadata": {
        "colab": {
          "base_uri": "https://localhost:8080/"
        },
        "id": "kJ1gfchN5p_D",
        "outputId": "d6b092cd-d29f-468d-c765-091d203c3c60"
      },
      "outputs": [
        {
          "output_type": "execute_result",
          "data": {
            "text/plain": [
              "array([15., 20., 16.], dtype=float32)"
            ]
          },
          "metadata": {},
          "execution_count": 4
        }
      ],
      "source": [
        "img[0][0] #first pixel"
      ]
    },
    {
      "cell_type": "code",
      "execution_count": null,
      "metadata": {
        "id": "T1DdUbLD5p_D"
      },
      "outputs": [],
      "source": [
        "from keras.preprocessing.image import array_to_img , ImageDataGenerator"
      ]
    },
    {
      "cell_type": "code",
      "execution_count": null,
      "metadata": {
        "id": "NzPC7oOj5p_E"
      },
      "outputs": [],
      "source": [
        "generator = ImageDataGenerator(horizontal_flip=True, \n",
        "                               rotation_range=40, \n",
        "                               shear_range=0.25, \n",
        "                               zoom_range=0.25, \n",
        "                              brightness_range=[0.5, 2.5])\n",
        "\n",
        "# vector scales-> RGB, BGR, RGBA, BGRA, CMY, HSB\n",
        "\n",
        "# rectangle --shear-- parallelogram\n",
        "\n",
        "# uniform -> all sides same pressure\n",
        "# shear -> one side all pressure!\n"
      ]
    },
    {
      "cell_type": "code",
      "execution_count": null,
      "metadata": {
        "id": "i1-dGeVU5p_E"
      },
      "outputs": [],
      "source": [
        "# all data that was passed to NN-> contained an extra dim\n",
        "# (x,y,z,3) -> # (1,x,y,z,3)\n",
        "img_seq = img.reshape((1,) + img.shape)\n"
      ]
    },
    {
      "cell_type": "code",
      "source": [
        "!mkdir output"
      ],
      "metadata": {
        "id": "wGB0phiLSkb0"
      },
      "execution_count": null,
      "outputs": []
    },
    {
      "cell_type": "code",
      "execution_count": null,
      "metadata": {
        "id": "vimEXqMi5p_E"
      },
      "outputs": [],
      "source": [
        "# generating augmentations\n",
        "c = 0 \n",
        "for batch in generator.flow(img_seq, batch_size=1, save_to_dir='output', save_prefix='panda_', save_format='jpeg'):\n",
        "    if c == 100:\n",
        "        break\n",
        "    c = c+1 "
      ]
    },
    {
      "cell_type": "code",
      "execution_count": null,
      "metadata": {
        "colab": {
          "base_uri": "https://localhost:8080/"
        },
        "id": "QSN66VPs5p_F",
        "outputId": "4ace0cf6-dd41-4cb3-afc0-917dfb097032"
      },
      "outputs": [
        {
          "output_type": "stream",
          "name": "stdout",
          "text": [
            "panda__0_1011.jpeg  panda__0_3276.jpeg\tpanda__0_5675.jpeg  panda__0_8051.jpeg\n",
            "panda__0_1015.jpeg  panda__0_3277.jpeg\tpanda__0_5721.jpeg  panda__0_8114.jpeg\n",
            "panda__0_1086.jpeg  panda__0_3329.jpeg\tpanda__0_577.jpeg   panda__0_8260.jpeg\n",
            "panda__0_1131.jpeg  panda__0_3413.jpeg\tpanda__0_5927.jpeg  panda__0_8385.jpeg\n",
            "panda__0_1193.jpeg  panda__0_3586.jpeg\tpanda__0_5928.jpeg  panda__0_8552.jpeg\n",
            "panda__0_1277.jpeg  panda__0_366.jpeg\tpanda__0_5948.jpeg  panda__0_8601.jpeg\n",
            "panda__0_1290.jpeg  panda__0_3921.jpeg\tpanda__0_598.jpeg   panda__0_8683.jpeg\n",
            "panda__0_1316.jpeg  panda__0_3929.jpeg\tpanda__0_6222.jpeg  panda__0_8830.jpeg\n",
            "panda__0_132.jpeg   panda__0_3996.jpeg\tpanda__0_6339.jpeg  panda__0_8888.jpeg\n",
            "panda__0_1352.jpeg  panda__0_4107.jpeg\tpanda__0_6478.jpeg  panda__0_8889.jpeg\n",
            "panda__0_1404.jpeg  panda__0_4116.jpeg\tpanda__0_6646.jpeg  panda__0_8926.jpeg\n",
            "panda__0_1420.jpeg  panda__0_4138.jpeg\tpanda__0_6746.jpeg  panda__0_9071.jpeg\n",
            "panda__0_1636.jpeg  panda__0_4196.jpeg\tpanda__0_6858.jpeg  panda__0_9112.jpeg\n",
            "panda__0_2022.jpeg  panda__0_4327.jpeg\tpanda__0_687.jpeg   panda__0_9157.jpeg\n",
            "panda__0_2081.jpeg  panda__0_443.jpeg\tpanda__0_6960.jpeg  panda__0_9318.jpeg\n",
            "panda__0_2110.jpeg  panda__0_4648.jpeg\tpanda__0_7069.jpeg  panda__0_9426.jpeg\n",
            "panda__0_213.jpeg   panda__0_4814.jpeg\tpanda__0_7182.jpeg  panda__0_943.jpeg\n",
            "panda__0_2572.jpeg  panda__0_5085.jpeg\tpanda__0_7270.jpeg  panda__0_9451.jpeg\n",
            "panda__0_2618.jpeg  panda__0_5127.jpeg\tpanda__0_7294.jpeg  panda__0_945.jpeg\n",
            "panda__0_2642.jpeg  panda__0_5133.jpeg\tpanda__0_7324.jpeg  panda__0_9590.jpeg\n",
            "panda__0_2839.jpeg  panda__0_5204.jpeg\tpanda__0_7337.jpeg  panda__0_9635.jpeg\n",
            "panda__0_2905.jpeg  panda__0_5208.jpeg\tpanda__0_7385.jpeg  panda__0_9671.jpeg\n",
            "panda__0_3013.jpeg  panda__0_524.jpeg\tpanda__0_7562.jpeg  panda__0_991.jpeg\n",
            "panda__0_3019.jpeg  panda__0_5295.jpeg\tpanda__0_7592.jpeg\n",
            "panda__0_3128.jpeg  panda__0_5442.jpeg\tpanda__0_7743.jpeg\n",
            "panda__0_3229.jpeg  panda__0_5668.jpeg\tpanda__0_7885.jpeg\n"
          ]
        }
      ],
      "source": [
        "!ls output"
      ]
    },
    {
      "cell_type": "code",
      "execution_count": null,
      "metadata": {
        "colab": {
          "base_uri": "https://localhost:8080/"
        },
        "id": "v71s8_rQ5p_F",
        "outputId": "e254d8b4-50b1-4b5c-8665-9d75e6de2781"
      },
      "outputs": [
        {
          "output_type": "stream",
          "name": "stdout",
          "text": [
            "  adding: output/ (stored 0%)\n",
            "  adding: output/panda__0_5927.jpeg (deflated 1%)\n",
            "  adding: output/panda__0_6746.jpeg (deflated 1%)\n",
            "  adding: output/panda__0_8683.jpeg (deflated 1%)\n",
            "  adding: output/panda__0_2081.jpeg (deflated 1%)\n",
            "  adding: output/panda__0_9671.jpeg (deflated 1%)\n",
            "  adding: output/panda__0_3921.jpeg (deflated 1%)\n",
            "  adding: output/panda__0_991.jpeg (deflated 1%)\n",
            "  adding: output/panda__0_4648.jpeg (deflated 1%)\n",
            "  adding: output/panda__0_7743.jpeg (deflated 1%)\n",
            "  adding: output/panda__0_8889.jpeg (deflated 1%)\n",
            "  adding: output/panda__0_7324.jpeg (deflated 1%)\n",
            "  adding: output/panda__0_3229.jpeg (deflated 1%)\n",
            "  adding: output/panda__0_577.jpeg (deflated 1%)\n",
            "  adding: output/panda__0_524.jpeg (deflated 1%)\n",
            "  adding: output/panda__0_2110.jpeg (deflated 1%)\n",
            "  adding: output/panda__0_5127.jpeg (deflated 1%)\n",
            "  adding: output/panda__0_6339.jpeg (deflated 1%)\n",
            "  adding: output/panda__0_2572.jpeg (deflated 1%)\n",
            "  adding: output/panda__0_3276.jpeg (deflated 1%)\n",
            "  adding: output/panda__0_5208.jpeg (deflated 1%)\n",
            "  adding: output/panda__0_9112.jpeg (deflated 1%)\n",
            "  adding: output/panda__0_4814.jpeg (deflated 1%)\n",
            "  adding: output/panda__0_132.jpeg (deflated 1%)\n",
            "  adding: output/panda__0_4116.jpeg (deflated 1%)\n",
            "  adding: output/panda__0_3996.jpeg (deflated 1%)\n",
            "  adding: output/panda__0_5133.jpeg (deflated 1%)\n",
            "  adding: output/panda__0_3128.jpeg (deflated 2%)\n",
            "  adding: output/panda__0_3013.jpeg (deflated 1%)\n",
            "  adding: output/panda__0_7885.jpeg (deflated 1%)\n",
            "  adding: output/panda__0_3329.jpeg (deflated 1%)\n",
            "  adding: output/panda__0_1015.jpeg (deflated 1%)\n",
            "  adding: output/panda__0_5675.jpeg (deflated 1%)\n",
            "  adding: output/panda__0_8114.jpeg (deflated 1%)\n",
            "  adding: output/panda__0_7385.jpeg (deflated 1%)\n",
            "  adding: output/panda__0_8051.jpeg (deflated 1%)\n",
            "  adding: output/panda__0_7069.jpeg (deflated 2%)\n",
            "  adding: output/panda__0_687.jpeg (deflated 1%)\n",
            "  adding: output/panda__0_5668.jpeg (deflated 1%)\n",
            "  adding: output/panda__0_1404.jpeg (deflated 2%)\n",
            "  adding: output/panda__0_8260.jpeg (deflated 1%)\n",
            "  adding: output/panda__0_7337.jpeg (deflated 2%)\n",
            "  adding: output/panda__0_9635.jpeg (deflated 1%)\n",
            "  adding: output/panda__0_6960.jpeg (deflated 1%)\n",
            "  adding: output/panda__0_7182.jpeg (deflated 2%)\n",
            "  adding: output/panda__0_2905.jpeg (deflated 1%)\n",
            "  adding: output/panda__0_9426.jpeg (deflated 1%)\n",
            "  adding: output/panda__0_3586.jpeg (deflated 1%)\n",
            "  adding: output/panda__0_2642.jpeg (deflated 1%)\n",
            "  adding: output/panda__0_1316.jpeg (deflated 1%)\n",
            "  adding: output/panda__0_2839.jpeg (deflated 1%)\n",
            "  adding: output/panda__0_9318.jpeg (deflated 1%)\n",
            "  adding: output/panda__0_5085.jpeg (deflated 1%)\n",
            "  adding: output/panda__0_1636.jpeg (deflated 1%)\n",
            "  adding: output/panda__0_8385.jpeg (deflated 1%)\n",
            "  adding: output/panda__0_4327.jpeg (deflated 1%)\n",
            "  adding: output/panda__0_8926.jpeg (deflated 1%)\n",
            "  adding: output/panda__0_8601.jpeg (deflated 1%)\n",
            "  adding: output/panda__0_943.jpeg (deflated 1%)\n",
            "  adding: output/panda__0_598.jpeg (deflated 1%)\n",
            "  adding: output/panda__0_3019.jpeg (deflated 1%)\n",
            "  adding: output/panda__0_7270.jpeg (deflated 1%)\n",
            "  adding: output/panda__0_5204.jpeg (deflated 1%)\n",
            "  adding: output/panda__0_6222.jpeg (deflated 1%)\n",
            "  adding: output/panda__0_6478.jpeg (deflated 1%)\n",
            "  adding: output/panda__0_1086.jpeg (deflated 2%)\n",
            "  adding: output/panda__0_7562.jpeg (deflated 1%)\n",
            "  adding: output/panda__0_9157.jpeg (deflated 1%)\n",
            "  adding: output/panda__0_3413.jpeg (deflated 1%)\n",
            "  adding: output/panda__0_366.jpeg (deflated 1%)\n",
            "  adding: output/panda__0_9590.jpeg (deflated 1%)\n",
            "  adding: output/panda__0_5295.jpeg (deflated 1%)\n",
            "  adding: output/panda__0_6858.jpeg (deflated 1%)\n",
            "  adding: output/panda__0_4107.jpeg (deflated 1%)\n",
            "  adding: output/panda__0_4138.jpeg (deflated 1%)\n",
            "  adding: output/panda__0_5948.jpeg (deflated 1%)\n",
            "  adding: output/panda__0_945.jpeg (deflated 1%)\n",
            "  adding: output/panda__0_5928.jpeg (deflated 1%)\n",
            "  adding: output/panda__0_6646.jpeg (deflated 1%)\n",
            "  adding: output/panda__0_1352.jpeg (deflated 1%)\n",
            "  adding: output/panda__0_1193.jpeg (deflated 1%)\n",
            "  adding: output/panda__0_9071.jpeg (deflated 1%)\n",
            "  adding: output/panda__0_4196.jpeg (deflated 1%)\n",
            "  adding: output/panda__0_8552.jpeg (deflated 1%)\n",
            "  adding: output/panda__0_5721.jpeg (deflated 1%)\n",
            "  adding: output/panda__0_2022.jpeg (deflated 1%)\n",
            "  adding: output/panda__0_1277.jpeg (deflated 1%)\n",
            "  adding: output/panda__0_9451.jpeg (deflated 1%)\n",
            "  adding: output/panda__0_7294.jpeg (deflated 1%)\n",
            "  adding: output/panda__0_443.jpeg (deflated 1%)\n",
            "  adding: output/panda__0_1420.jpeg (deflated 1%)\n",
            "  adding: output/panda__0_2618.jpeg (deflated 1%)\n",
            "  adding: output/panda__0_5442.jpeg (deflated 1%)\n",
            "  adding: output/panda__0_7592.jpeg (deflated 1%)\n",
            "  adding: output/panda__0_8888.jpeg (deflated 1%)\n",
            "  adding: output/panda__0_213.jpeg (deflated 1%)\n",
            "  adding: output/panda__0_1131.jpeg (deflated 1%)\n",
            "  adding: output/panda__0_8830.jpeg (deflated 1%)\n",
            "  adding: output/panda__0_1290.jpeg (deflated 1%)\n",
            "  adding: output/panda__0_3277.jpeg (deflated 1%)\n",
            "  adding: output/panda__0_3929.jpeg (deflated 1%)\n",
            "  adding: output/panda__0_1011.jpeg (deflated 1%)\n"
          ]
        }
      ],
      "source": [
        "!zip -r aug.zip output"
      ]
    },
    {
      "cell_type": "code",
      "source": [
        ""
      ],
      "metadata": {
        "id": "YzTXT4wY9RL8"
      },
      "execution_count": null,
      "outputs": []
    }
  ],
  "metadata": {
    "kernelspec": {
      "display_name": "Python 3.6 - AzureML",
      "language": "python",
      "name": "python3-azureml"
    },
    "language_info": {
      "codemirror_mode": {
        "name": "ipython",
        "version": 3
      },
      "file_extension": ".py",
      "mimetype": "text/x-python",
      "name": "python",
      "nbconvert_exporter": "python",
      "pygments_lexer": "ipython3",
      "version": "3.6.9"
    },
    "colab": {
      "name": "007_augmentation.ipynb.txt",
      "provenance": [],
      "include_colab_link": true
    }
  },
  "nbformat": 4,
  "nbformat_minor": 0
}